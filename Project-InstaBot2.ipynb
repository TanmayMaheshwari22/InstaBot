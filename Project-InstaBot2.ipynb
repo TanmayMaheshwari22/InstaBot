{
 "cells": [
  {
   "cell_type": "markdown",
   "id": "801cab7e",
   "metadata": {},
   "source": [
    "## Question 1"
   ]
  },
  {
   "cell_type": "code",
   "execution_count": 14,
   "id": "3a5fbd8d",
   "metadata": {},
   "outputs": [],
   "source": [
    "from selenium import webdriver #importing the required libraries\n",
    "import time\n",
    "#Opening the web driver by locating the executable path of the webdriver into var driver\n",
    "driver=webdriver.Chrome(executable_path='C:/Users/deepa/Desktop/chromedriver_win32/chromedriver.exe') \n",
    "driver.get('https://www.instagram.com/') #Opening the required website online web driver session\n",
    "time.sleep(5) # Waiting for the site to open\n",
    "username=driver.find_element_by_name('username') # Identifying the text box to enter username\n",
    "username.send_keys('Sample-Username') # Tying username into text box\n",
    "password=driver.find_element_by_name('password') # Identifying the text box to enter password\n",
    "password.send_keys('Sample-Password') # Typing password into text box\n",
    "time.sleep(3) # Waiting so that required text boxes are filled\n",
    "login=driver.find_element_by_xpath('//div[contains(@class,\"Igw0E\")]/button') # Identifying the login button\n",
    "login.submit() # Submitting the required information to open the account\n",
    "time.sleep(5) # Waiting for the account to open\n",
    "# Dealing with the message to save or do not save the password\n",
    "request=driver.find_element_by_xpath('//div[@class=\"cmbtv\"]/button') \n",
    "request.click() # Clicking on Not now\n",
    "time.sleep(3) # Waiting for the operation \n",
    "# Dealing with the notification message to notify for the messages or not\n",
    "notifications=driver.find_element_by_xpath('//div[@class=\"mt3GC\"]//button[2]')\n",
    "notifications.click() #Clicking on Not now"
   ]
  },
  {
   "cell_type": "code",
   "execution_count": 15,
   "id": "db2b1ea2",
   "metadata": {},
   "outputs": [],
   "source": [
    "search=driver.find_element_by_xpath('//div[contains(@class,\"LWmhU\")]/input') #Locating the search bar\n",
    "search.send_keys('food') # Tying with food in the search bar"
   ]
  },
  {
   "cell_type": "markdown",
   "id": "21d0d1aa",
   "metadata": {},
   "source": [
    "### Question 1.1"
   ]
  },
  {
   "cell_type": "code",
   "execution_count": 16,
   "id": "fa799e82",
   "metadata": {},
   "outputs": [],
   "source": [
    "profile=[] #Initialising a list to store the top 10 handles after searching food in search bar\n",
    "i=1 # Making i=1 so that as soon as it becomes 11 we break it \n",
    "while True:\n",
    "    if i==11: #If i becomes 11 then we have to break the infinite loop as we have stored the first 10 handles\n",
    "        break\n",
    "    #Locating each page so that we can take its  username so that we can open their web session by adding it to base url   \n",
    "    page=driver.find_element_by_xpath('//*[@id=\"react-root\"]/section/nav/div[2]/div/div/div[2]/div[3]/div/div[2]/div/div['+str(i)+']')\n",
    "    if page.text.split('\\n')[0][0]!='#': # Avoiding the usernames starting with '#'\n",
    "        profile.append(page.text.split('\\n')[0]) # Appending the first 10 valid ig handles\n",
    "        i=i+1 #incrementing i"
   ]
  },
  {
   "cell_type": "code",
   "execution_count": 138,
   "id": "3aa17371",
   "metadata": {},
   "outputs": [
    {
     "data": {
      "text/plain": [
       "['yourfoodlab',\n",
       " 'foodie_incarnate',\n",
       " 'foodrush.recipe',\n",
       " 'streetfoodrecipe',\n",
       " 'street_food_chandigarh',\n",
       " 'foodvibesonly__',\n",
       " 'food',\n",
       " 'food__india___',\n",
       " 'fooodsnifffer',\n",
       " 'delhi_streets_food']"
      ]
     },
     "execution_count": 138,
     "metadata": {},
     "output_type": "execute_result"
    }
   ],
   "source": [
    "profile # Printing the first valid 10 ig handles after searching food "
   ]
  },
  {
   "cell_type": "code",
   "execution_count": 12,
   "id": "632e43dc",
   "metadata": {},
   "outputs": [],
   "source": [
    "base_url='https://www.instagram.com' # Taking base url\n",
    "followers=[] # Initialising list to append followers of the ig handle\n",
    "usernames=[] # Initialising list to append username of the ig handle\n",
    "# Running a loop for the 10 ig handles by opening web driver session of each ig handle by appening the handle's username to the base url\n",
    "# After opening the handle , storing their followers \n",
    "for i in range(10): \n",
    "    complete_url=base_url+'/'+profile[i]+'/' # URL to be opened\n",
    "    driver.get(complete_url) # Making driver web session of each handle\n",
    "    time.sleep(3) # Waiting for each handle to open\n",
    "    number=driver.find_elements_by_class_name('g47SY') # Locating the number of followers text\n",
    "    follower=number[1].get_attribute('outerHTML').split(' ')[3].split('=')[1].split('>')[0] # Splitting the string to get the number\n",
    "    follower=int(follower.replace(',','')[1:-1]) \n",
    "    followers.append(follower) # Appending the followers of the handle\n",
    "    usernames.append(profile[i]) # Appending the  usernames of the handle"
   ]
  },
  {
   "cell_type": "code",
   "execution_count": 139,
   "id": "87b753ac",
   "metadata": {},
   "outputs": [
    {
     "name": "stdout",
     "output_type": "stream",
     "text": [
      "yourfoodlab 1695474\n",
      "foodie_incarnate 403926\n",
      "foodrush.recipe 590497\n",
      "streetfoodrecipe 196455\n",
      "street_food_chandigarh 93767\n",
      "foodvibesonly__ 1396\n",
      "food 123850\n",
      "food__india___ 1806\n",
      "fooodsnifffer 3045\n",
      "delhi_streets_food 29260\n"
     ]
    }
   ],
   "source": [
    "# Printing the handles and their followers\n",
    "for i in range(len(usernames)):\n",
    "    print(usernames[i],followers[i])"
   ]
  },
  {
   "cell_type": "code",
   "execution_count": 95,
   "id": "744238eb",
   "metadata": {},
   "outputs": [
    {
     "data": {
      "text/plain": [
       "[('yourfoodlab', 1695474),\n",
       " ('foodrush.recipe', 590497),\n",
       " ('foodie_incarnate', 403926),\n",
       " ('streetfoodrecipe', 196455),\n",
       " ('food', 123850)]"
      ]
     },
     "execution_count": 95,
     "metadata": {},
     "output_type": "execute_result"
    }
   ],
   "source": [
    "# Sorting ig handles according to their number of follwers by taking them into dictionary\n",
    "dict={}\n",
    "for i in range(len(usernames)):\n",
    "    dict[usernames[i]]=followers[i]\n",
    "    # Taking top5 handles on the basis of the number of followers\n",
    "    order=sorted(dict.items(), key=lambda kv:(kv[1], kv[0]),reverse=True)[0:5] "
   ]
  },
  {
   "cell_type": "code",
   "execution_count": 102,
   "id": "1ea444f5",
   "metadata": {},
   "outputs": [
    {
     "name": "stdout",
     "output_type": "stream",
     "text": [
      "yourfoodlab 1695474\n",
      "foodrush.recipe 590497\n",
      "foodie_incarnate 403926\n",
      "streetfoodrecipe 196455\n",
      "food 123850\n"
     ]
    }
   ],
   "source": [
    "# Appending the top5 handles and thier number of followers into the respective lists\n",
    "top5=[] # List for top5 handles\n",
    "top5_followers=[] #list for top5 handles' followers\n",
    "# Printing the top5 handles with their number of followers\n",
    "for i in order:\n",
    "    print(i[0],i[1])\n",
    "    top5.append(i[0])\n",
    "    top5_followers.append(i[1])"
   ]
  },
  {
   "cell_type": "code",
   "execution_count": 114,
   "id": "f017ac0b",
   "metadata": {},
   "outputs": [
    {
     "data": {
      "text/plain": [
       "['yourfoodlab',\n",
       " 'foodrush.recipe',\n",
       " 'foodie_incarnate',\n",
       " 'streetfoodrecipe',\n",
       " 'food']"
      ]
     },
     "execution_count": 114,
     "metadata": {},
     "output_type": "execute_result"
    }
   ],
   "source": [
    "top5"
   ]
  },
  {
   "cell_type": "code",
   "execution_count": 127,
   "id": "edf4ce7c",
   "metadata": {},
   "outputs": [
    {
     "data": {
      "image/png": "[encoded data removed]",
      "text/plain": [
       "<Figure size 432x288 with 1 Axes>"
      ]
     },
     "metadata": {
      "needs_background": "light"
     },
     "output_type": "display_data"
    }
   ],
   "source": [
    "# Plotting a graph between top5 handles and thier number of followers\n",
    "import matplotlib.pyplot as plt\n",
    "plt.barh(top5,top5_followers,color='red')\n",
    "plt.xticks(rotation=45)\n",
    "plt.xlabel('No. of followers->')\n",
    "plt.ylabel('Hnadles->')\n",
    "plt.title('Handles vs No. of Followers')\n",
    "plt.show()\n",
    "plt.show()"
   ]
  },
  {
   "cell_type": "markdown",
   "id": "56762f79",
   "metadata": {},
   "source": [
    "### Question 1.2"
   ]
  },
  {
   "cell_type": "code",
   "execution_count": 23,
   "id": "8a3f9bbd",
   "metadata": {},
   "outputs": [],
   "source": [
    "import time\n",
    "counts=[] # Initialising list for stroing number of posts from top5 handles in past 3 days\n",
    "users=[]  # Handle's username\n",
    "#Running a loop for each handle\n",
    "for i in range(len(top5)):\n",
    "    count=0\n",
    "    complete_url=base_url+'/'+top5[i]+'/'\n",
    "    driver.get(complete_url)  #Opening web driver session of each handle from top5 handles\n",
    "    time.sleep(3) # Waiting for page to open\n",
    "    post=driver.find_element_by_xpath('//div[contains(@class,\"v1Nh3\")]') # Locating the first post\n",
    "    post.click() # Clicking on the first post \n",
    "    time.sleep(2) # Waiting to open it\n",
    "    #Running a loop to count the posts within 3 days and incrementing the count and breaking it if the post in not within 3 days\n",
    "    while True:\n",
    "        utime=driver.find_element_by_xpath('//time[contains(@class,\"_1o9PC\")]') # Locating the upload time of the post\n",
    "        # Checking different time of the posts\n",
    "        # If the time is within hours then incrementing the count variable by 1 and going to the next post\n",
    "        if utime.text.split(' ')[1]=='HOURS' or utime.text.split(' ')[1]=='HOUR':\n",
    "            count+=1\n",
    "            nextpost=driver.find_element_by_xpath('//a[contains(@class,\"_65Bje\")]') \n",
    "            nextpost.click()\n",
    "            time.sleep(2) \n",
    "        # If the upload time is in days then checking if it is within 3 days or not\n",
    "        # If yes then incrementing the count variable by 1 and going to the next post and if not then breaking out of the loop\n",
    "        elif utime.text.split(' ')[1]=='DAYS' or utime.text.split(' ')[1]=='DAY':\n",
    "            if int(utime.text.split(' ')[0])<=3:\n",
    "                count+=1\n",
    "                nextpost=driver.find_element_by_xpath('//a[contains(@class,\"_65Bje\")]') \n",
    "                nextpost.click()\n",
    "                time.sleep(2)        \n",
    "            else:\n",
    "                break\n",
    "        # If there is anything other than hours and days in the time then breakng from the loop        \n",
    "        else:\n",
    "            break\n",
    "    counts.append(count) # After breaking from the loop storing the count in counts list\n",
    "    users.append(top5[i]) # Appending the name of the handle\n",
    "    close=driver.find_element_by_xpath('html/body/div[5]/div[3]/button/div') # Closing the post \n",
    "    close.click()        "
   ]
  },
  {
   "cell_type": "code",
   "execution_count": 63,
   "id": "f467837d",
   "metadata": {},
   "outputs": [
    {
     "name": "stdout",
     "output_type": "stream",
     "text": [
      "yourfoodlab 3\n",
      "foodrush.recipe 0\n",
      "foodie_incarnate 6\n",
      "streetfoodrecipe 0\n",
      "food 3\n"
     ]
    }
   ],
   "source": [
    "# Printing the handle and their number of posts within 3 days\n",
    "for i in range(len(users)):\n",
    "    print(users[i],counts[i])"
   ]
  },
  {
   "cell_type": "code",
   "execution_count": 128,
   "id": "aadb6061",
   "metadata": {},
   "outputs": [
    {
     "data": {
      "image/png": "[encoded data removed]",
      "text/plain": [
       "<Figure size 432x288 with 1 Axes>"
      ]
     },
     "metadata": {
      "needs_background": "light"
     },
     "output_type": "display_data"
    }
   ],
   "source": [
    "#Plotting a graph btwn top5 handles and their number of posts within 3 days\n",
    "plt.bar(users,counts,color='red')\n",
    "plt.xticks(rotation=45)\n",
    "plt.xlabel('Handles->')\n",
    "plt.ylabel('Number of posts in past 3 days ->')\n",
    "plt.title('Handles vs No. of Posts')\n",
    "plt.show()\n",
    "plt.show()"
   ]
  },
  {
   "cell_type": "markdown",
   "id": "996cbfe7",
   "metadata": {},
   "source": [
    "## Question 2"
   ]
  },
  {
   "cell_type": "markdown",
   "id": "8fa2efcc",
   "metadata": {},
   "source": [
    "### Question 2.1"
   ]
  },
  {
   "cell_type": "code",
   "execution_count": 29,
   "id": "8f5b4d66",
   "metadata": {},
   "outputs": [],
   "source": [
    "contents=[] # Initialising an empty list to store the content of first 10 posts of the top5 handles\n",
    "# Runnung a loop to open web driver session of each handle\n",
    "for j in range(len(top5)):\n",
    "    i=0\n",
    "    complete_url=base_url+'/'+top5[j]+'/'\n",
    "    driver.get(complete_url)\n",
    "    time.sleep(3)\n",
    "    post=driver.find_element_by_xpath('//div[contains(@class,\"v1Nh3\")]') # Clicking on the first post\n",
    "    post.click()\n",
    "    # Running a loop to scrape the content of first 10 posts of the handle\n",
    "    while True:\n",
    "            if i==10: # BReaking from loop when i becomes 10\n",
    "                break\n",
    "            time.sleep(3)    \n",
    "            content=driver.find_element_by_xpath('//div[@class=\"C4VMK\"]/span') # Locating the content\n",
    "            time.sleep(2)\n",
    "            contents.append(content.text) # Appending the content into the list\n",
    "            time.sleep(2)\n",
    "            nextpost=driver.find_element_by_xpath('//a[contains(@class,\"_65Bje\")]') # After appending the content going to the next post\n",
    "            time.sleep(1) \n",
    "            nextpost.click()\n",
    "            i+=1 # Incrementing i\n",
    "close=driver.find_element_by_xpath('html/body/div[5]/div[3]/button/div')\n",
    "close.click()             "
   ]
  },
  {
   "cell_type": "code",
   "execution_count": 140,
   "id": "2775f574",
   "metadata": {},
   "outputs": [
    {
     "data": {
      "text/plain": [
       "['What’s up guys! My home-secret Mango Pickle recipe is out now on YouTube! Check it out now! This is the best ever Punjabi aam ka achaar you are gonna have!\\nThis is my Chaiji’s recipe which I have learnt from my Maa. It’s the most delicious mango pickle I have always been having since I was a kid. It has this distinct saunf flavor & I call it the saunf aur aam ka achaar. I have never tasted anything like this ever. Do try it & let me know. Do share the video & recipe with as many people as possible so that everyone could enjoy having mere ghar ke aam ka achaar at their homes!\\nI request you to please learn your home secret recipes from your Granny, grandfather, mom & dad & keep the legacy going. Share the recipes with as many people as possible so that everyone could enjoy those recipes. Also, don’t make it a gender specific role to keep these traditions alive & teach men & women these recipes if your the one who knows some secret recipes & if you are the one who is on the learning side, learn the recipe today it self! Also do share your home secret recipes with me, I will try & recreate those recipes in my kitchen! Looking forward! Cheers!\\n.\\n.\\n.\\n.\\n#recipes #foodie #achaar #mango #mangoseason #mangorecipe #nostalgia #oldrecipes #streetfoodindia #mangoachar #sanjyotkeer #yourfoodlab #foodphotography #darkphotography #moody #throughyourlens',\n",
       " 'Tava Burger by Chef @sanjyotkeer\\n.\\n.\\n.\\n.\\n#recipe #foodie #foodporn #indiancuisine #streetfood #burger #burgerrecipe #streetfoodindia #foodporn',\n",
       " 'Home-made Mango Squash by Chef @sanjyotkeer\\n\\nWhat’s up guys! I have prepped some Home-made Mango Squash & with it I have prepped 4 delicious mango recipes. Mango Frooti, Mango Ice Tea, Mango Milkshake & Mango Ice Candy.\\nI have mentioned all tips & tricks to prepare a delicious Mango squash at home without any preservatives & you can prepare so many delicious recipes with it even after the mango season is over.\\nDo check out the video & let me know! Cheers!\\n.\\n.\\n.\\n.\\n#recipe #foodporn #foodphotography #icetea #mangomilkshake #mangoseason #mangolover #frooti #recipeoftheday #homemade #mangolove #sanjyotkeer #yourfoodlab #instadaily',\n",
       " 'What’s up guys! My new YFL Mango video is live on my YouTube channel! I have prepped some Home-made Mango Squash & with it I have prepped 4 delicious mango recipes. Mango Frooti, Mango Ice Tea, Mango Milkshake & Mango Ice Candy.\\nI have mentioned all tips & tricks to prepare a delicious Mango squash at home without any preservatives & you can prepare so many delicious recipes with it even after the mango season is over.\\nDo check out the video & let me know! Cheers!\\n.\\n.\\n.\\n.\\n#recipe #foodporn #foodphotography #icetea #mangomilkshake #mangoseason #mangolover #frooti #recipeoftheday #homemade #mangolove #sanjyotkeer #yourfoodlab #instadaily',\n",
       " 'YFL LIVE - Sunday, 23/05/2021 at 12:30 pm IST\\n\\nAfter a successful YFL live session last week I am doing another live cooking stream on YouTube tomorrow. I will be cooking some Mumbai street style sandwiches, an absolute favourite. As you all know I love recreating street food recipes in my kitchen. It will be a fun session where I will answer a lot of your questions & also cook live.\\nIf you want to cook along with me you can find the ingredients in my Mumbai street style sandwich & masala toast sandwich recipes on YouTube. You could pre prep the components with me & then cook some sandwiches for your Sunday evening. See you tomorrow at 12:30 pm IST.\\nCheers!\\n.\\n.\\n.\\n.\\n#recipe #foodphotography #cooking #cookingvideos #cookingathome #cookinglive #homemade #sandwich #mumbaisandwich #livestream #sanjyotkeer #yourfoodlab',\n",
       " 'Missi Roti with some home made white butter by Chef @sanjyotkeer\\n\\nI had received a lot of requests to show how to churn white butter at home easily & you would be able to make some home-made white butter quickly by this recipe.\\nThe missi roti turns out to be super delicious & I have used some dal to knead the dough. It’s super healthy & makes a really good breakfast or lunch meal.\\nI have included a special chutney as well in this video. Enjoy the recipe! Cheers!\\n.\\n.\\n.\\n.\\n#recipes #recipeoftheday #makhan #butter #missiroti #indiancuisine #streetfood #foodporn #foodphotography #throughyourlens #streetfoodindia #homemade #homemadefood #sanjyotkeer #yourfoodlab',\n",
       " 'What’s up guys! New recipe video is up on the YouTube & Facebook channel! I have prepped some delicious Missi Roti with some home made white butter.\\nI had received a lot of requests to show how to churn white butter at home easily & you would be able to make some home-made white butter quickly by this recipe.\\nThe missi roti turns out to be super delicious & I have used some dal to knead the dough. It’s super healthy & makes a really good breakfast or lunch meal.\\nI have included a special chutney as well in this video. Enjoy the recipe! Cheers!\\n.\\n.\\n.\\n.\\n#recipes #recipeoftheday #makhan #butter #missiroti #indiancuisine #streetfood #foodporn #foodphotography #throughyourlens #streetfoodindia #homemade #homemadefood #sanjyotkeer #yourfoodlab',\n",
       " 'Chicken Hakka Noodles by Chef @sanjyotkeer\\n.\\n.\\n.\\n.\\n#recipe #food #foodporn #streetfood #indiancuisine #noodles #noodleslover #streetfoodindia #foodie',\n",
       " 'Stuffed Mango Kulfi recipe by Chef @sanjyotkeer\\n\\nWhat’s up guys!\\nI have prepared the perfect, rich & creamy Malai kulfi & Mango Kulfi and I’ve set it in fresh mangoes! It looks so beautiful when you serve it and tastes incredible. Best part, you don’t need a mould to set this kulfi & the recipe is super simple. You get these fruit kulfis in Delhi & I just love this whole concept. Do try the recipe, I am sure you will love it!\\nCheers!\\n.\\n.\\n.\\n#mango #mangoicecream #mangoseason #kulfi #mangokulfi #mangolover #kulfilovers #streetfoodindia #indiancuisine #dessert #dessertsofinstagram #sanjyotkeer #yourfoodlab #instadailyphoto #stuffedkulfi',\n",
       " 'What’s up guys! My Stuffed Mango Kulfi recipe is out now on YouTube & Facebook ! I have prepared the perfect, rich & creamy Malai kulfi & Mango Kulfi and I’ve set it in fresh mangoes! It looks so beautiful when you serve it and tastes incredible. Best part, you don’t need a mould to set this kulfi & the recipe is super simple. You get these fruit kulfis in Delhi & I just love this whole concept. Do try the recipe, I am sure you will love it!\\nCheers!\\n.\\n.\\n.\\n#mango #mangoicecream #mangoseason #kulfi #mangokulfi #mangolover #kulfilovers #streetfoodindia #indiancuisine #dessert #dessertsofinstagram #sanjyotkeer #yourfoodlab #instadailyphoto #stuffedkulfi',\n",
       " 'Tired of staring at your screen all day and feel the need for a good, strong, foamy cuppa? With Sunbean Beaten Caffe by @itcsunbean, you can make a cup of beaten coffee in 30 seconds! No more whipping till your elbows hurt! A bad day with coffee is better than a good day without it !\\n\\n#BeatenCoffeeHack, #Sunbeanbeatencaffe #BeatenCoffee #easycoffeeeasytimes #food #foodie #dalgonacoffee #coffee #coffeelover #coffeetime #coffeeholic',\n",
       " 'Tired of staring at your screen all day and feel the need for a good, strong, foamy cuppa? With Sunbean Beaten Caffe by @itcsunbean, you can make a cup of beaten coffee in 30 seconds! No more whipping till your elbows hurt! A bad day with coffee is better than a good day without it !\\n\\n#BeatenCoffeeHack, #Sunbeanbeatencaffe #BeatenCoffee #easycoffeeeasytimes #food #foodie #dalgonacoffee #coffee #coffeelover #coffeetime #coffeeholic',\n",
       " 'Tomato Bonda is an amazing twist to regular bonda!!! Try this easy yet tasty recipe and enjoy your weekend 😀',\n",
       " 'Cheese Pav bhaji is one of the best version of street food we all have ever tasted. We have just tried to serve it in a most convenient yet cheesy way with @gocheesein 😋This recipe is specially for all cheese lovers out there cause #HarTastyCheezMeinGoCheese !!! Ingredients:\\n2 cup Refined Flour\\n1/2 cup Water\\n1/2 cup Warm Milk\\n1 tsp Salt\\n1 tsp Yeast\\n1/2 tsp Sugar\\n1 tsp Oil\\n1 cup Pav Bhaji\\nGo Pizza Cheese\\nButter\\n\\nMethod:\\n\\nIn a warm milk add sugar and yeast and rest it for 10 minutes. Once the mixture become bubbly add it to refined flour. Add salt and water to the flour and combine to make a soft dough. Rest it for 30 minutes or till it doubles in size.\\n—\\nIn a cup of pav bhaji add grated Go Pizza Cheese. Mix it well.\\n—\\nPuncture the dough and roll it. Cut the circles from this sheet with the help of cookie cutter.\\n—\\nSpread Pav bhaji on this and shape it as shown in video.\\n—\\nArrange these shapes to form flower out of it. Add Go Pizza Cheese between two petals.\\n—\\nBake it @200 degree for 15-20 minutes.\\n—\\nServe hot with cheesy dip or ketchup!!! #cheese #pavbhaji #cheesy #gocheese #foodie #foodrushrecipe #food #recipe #bakery #bread #streetfood #twist #party #foodphotography',\n",
       " 'Cheese Pav bhaji is one of the best version of street food we all have ever tasted. We have just tried to serve it in a most convenient yet cheesy way with @gocheesein 😋This recipe is specially for all cheese lovers out there cause #HarTastyCheezMeinGoCheese !!! Ingredients:\\n2 cup Refined Flour\\n1/2 cup Water\\n1/2 cup Warm Milk\\n1 tsp Salt\\n1 tsp Yeast\\n1/2 tsp Sugar\\n1 tsp Oil\\n1 cup Pav Bhaji\\nGo Pizza Cheese\\nButter\\n\\nMethod:\\n\\nIn a warm milk add sugar and yeast and rest it for 10 minutes. Once the mixture become bubbly add it to refined flour. Add salt and water to the flour and combine to make a soft dough. Rest it for 30 minutes or till it doubles in size.\\n—\\nIn a cup of pav bhaji add grated Go Pizza Cheese. Mix it well.\\n—\\nPuncture the dough and roll it. Cut the circles from this sheet with the help of cookie cutter.\\n—\\nSpread Pav bhaji on this and shape it as shown in video.\\n—\\nArrange these shapes to form flower out of it. Add Go Pizza Cheese between two petals.\\n—\\nBake it @200 degree for 15-20 minutes.\\n—\\nServe hot with cheesy dip or ketchup!!! #cheese #pavbhaji #cheesy #gocheese #foodie #foodrushrecipe #food #recipe #bakery #bread #streetfood #twist #party #foodphotography',\n",
       " 'Stuffed Paneer Bread Pakora !!! Sound exciting right, its just so tasty that you will love it at its first bite 😋 #paneer #bread #pakora #fried #breadpakoda #masala #recipe #streetfood #streetstyle #india #indian #indianfood #food #foodie #homemade',\n",
       " 'Happy new year to all foodies!! 🥳🥳🥳Try this super amazing Hot Chocolate Bombs to make your winter warm and comfortable 😉 These magical chocolate bombs will melt in hot milk just like this 😋#newyear #chocolate #coco #cocoa #bombs #chocolatebomb #hotchocolate #winter #winterseason #recipe #magic #food #foodie',\n",
       " 'Egg chilli !!! Want to plan some easier and fastest recipe on this New Year eve try this simplest yet tastier indo Chinese recipe 😋 #egg #indochinese #chinese #chinesefood #recipes #food #foodie #foodporn #foodstagram #fusion #chilli #fried #newyear #newyear2021 #newyeareve',\n",
       " 'Malai Chicken tikka is mouthwatering juicy grilled chicken !!! Its made using green chilli, garlic, lemon, malai and one special ingredient thats @californiawalnutsindia Walnuts not just makes it taste better but also makes it healthier 😀 try this juicy soft kebab on skewers that will melt in your mouth 😋\\n\\nIngredients :\\n500 gm Chicken Salt to taste\\n1/4 tsp Black Pepper\\n1.5 tbsp Ginger Garlic Paste 2 tbsp California Walnuts\\n3/4 cup Hung Curd\\n1/2 cup Fresh Cream\\n1 tsp Green Chillies\\n1 tsp Garam Masala\\n1 tsp Kasuri Methi\\n1 tbsp Fresh Coriander\\n1 tbsp Corn Starch\\nFinely Chopped California Walnuts\\nButter\\n\\nMethod:\\n\\nMarinate chicken using salt, black pepper and ginger garlic paste. Rest it for 15 minutes.\\n—\\nMake fine paste of California walnuts.\\n—\\nIn a bowl take hung curd, fresh cream, green chillies, salt, kauri methi, walnuts paste, fresh coriander and cornstarch. Mix it well.\\n—\\nAdd marinated chicken to this mixture and coat all chicken pieces with it.\\n—\\nPlace small bowl over this mixture. In a small bowl take heated coal add ghee to it and cover it immediately. Let it covered for 2-3 minutes.\\n—\\nRemove coal bowl from this and add some chopped walnuts mixture and mix it again.\\n—\\nThread this chicken into skewer. Grill it on medium low flame for around 5-10 minutes.\\n—\\nSqueeze some lemon juice over this grilled chicken and garnish with fresh cream and coriander.\\n—\\nServe hot with green chutney !!!\\n\\n#MakingEverydayHealthy #californiawalnuts #chicken #grill #malaichicken #food #recipe #foodie #homemade',\n",
       " 'Whip-up this delectable Open Cheese Toast sandwich recipe loaded with the goodness of Austrian cheese triangles whenever hunger strikes. Austrian cheese triangles are especially soft and creamy and produced from the finest ingredients. You can also use Blue cheese from France for this recipe 😉\\nThis post is funded with aid from European Union.\\n\\nIngredients :\\n\\nBaguette Slice\\nMelted butte\\nAustrian Cheese Triangles\\n1 tbsp Oregano mix herbs\\n1 tbsp Garlic\\n1 tsp Butter\\n1 tbsp Balsamic Vinegar\\n1/2 cup Cherry Tomato\\nSalt to taste\\nPepper to taste\\nPesto Sauce\\nBasil Leaves\\n\\nMethod:\\nSpread some melted butter on a baguette slice. Bake it at 200 degree celcius for 10 minutes.\\n--\\nIn a bowl take Austrian cheese triangle add Oregano mix herbs and finely chopped garlic to it. mIx it well.\\n--\\nIn a flat pan take some butter. Add Balsamic vinegar to it. Toast cherry tomatoes in it. Add salt and pepper to taste.\\n--\\nTake baked baguette slice. Spread Seasoned cheese over it. Add some roasted tomatoes. spread some pesto sauce over it and garnish with fresh basil leaves.\\n--\\nServe with your favorite condiments !!\\n\\n#EnjoyitsFromEurope #EuropeHomeOfCheese #AustrianCheese #cheese #recipe #food #foodie #foodofinstagram #bread #opentoast #sandwich',\n",
       " 'Now experience the Royal Biryani from @behrouzbiryani at half price🤩🤩 Use code ROYAL50 & get 50% off on www.behrouzbiryani.com T&C applied*\\n.\\n#foodieincarnate #BehrouzBiryani #reelitfeelit #reelkarofeelkaro #reelsinstagram #reels #biryani #biryanilovers #biryanilove #biryanirecipe #biryanilover',\n",
       " \"We are now a family of 4,00,000+ people❤❤ From being on top to getting my page deleted, from starting all over again to again reaching at the top..this has been an incredible journey and it wouldn't have been possible without the support of you guys. Thank you every single one of you. The admirers, the haters..every single one of you has played a part in this page becoming so big. Thank you guys. And yes! Much more never seen before content is coming! So stay tuned🤗\\n.\\nP.S. no plastic balloons celebration because unlike some other influencers, my care & love for environment doesn't come out of hibernation only on Holi & Diwali🤭🤗\\n.\\n#foodieincarnate #amarsirohi #sodelhi #foodblogger #delhifoodblogger #delhifoodbloggers #delhibloggers #indianfoodblogger #delhifoodbloggers #indianfoodbloggers #foodblogger #foodbloggers #lifestyleblogger #delhiblogger #mumbaiblogger #kolkatablogger #bangaloreblogger #foodblog #delhifoodie #mumbaifoodie #kolkata #400K #mumbaifoodblogger #indoreblogger #indorefoodblogger #kolkatafoodblogger #delhifoodblog #kolkatafoodie #mumbaifoodie #raipurfoodblogger\",\n",
       " \"Indore's Famous MURDER Wala Coconut Crush😳😳\\n\\nKindly watch the full video for location, price & other details🤗🤗\\n.\\n#foodieincarnate #sodelhi #newdelhi #foodtalkindia #delhigram #indianfood #delhifoodblogger #foodgasm #foodporn #foodpornshare #foodlover #foodgram #foodiesofinstagram #foodie #indianstreetfood #streetfood #delhistreetfood #streetfoodindia #mumbaistreetfood #delhifoodie #foodblogger #indianfoodie #desikhana #indianfoodblogger #indianfoodbloggers #delhifood #mumbai #delhi #indore #coconutcrush\",\n",
       " 'Cutie Pie Pizza🍕🍕 35 Rs only🤗🤗\\n.\\n#foodieincarnate #reelkarofeelkaro #reelitfeelit #reels #reelsinstagram #pizza #delhifoodie #delhifood #pizzalover',\n",
       " 'Somewhere in Central India🇮🇳\\n.\\nWho is excited to watch the never seen before dishes from this region??\\n.\\n#foodieincarnate #sodelhi #newdelhi #foodtalkindia #foodblogger #travelblogger #delhifoodblogger #delhifoodbloggers #madhyapradhesh #chattisgarh #centralindia #shivpuri #guna #gwalior #biaora #dewas #ashoknagar #bhopal #indore #blogger #amarsirohi #vidisha #ujjain #sagar #katni #jabalpur #bilaspur #korba #raipur #satna',\n",
       " 'ThumsUp Milk of Kolkata🥵🥵\\n\\nKindly watch the full video for location, price & other details🤗🤗\\n.\\n#foodieincarnate #sodelhi #newdelhi #foodtalkindia #delhigram #indianfood #delhifoodblogger #foodgasm #foodporn #foodpornshare #foodlover #foodgram #foodiesofinstagram #foodie #indianstreetfood #streetfood #delhistreetfood #streetfoodindia #mumbaistreetfood #delhifoodie #foodblogger #indianfoodie #desikhana #indianfoodblogger #indianfoodbloggers #delhifood #mumbai #delhi #kolkata #doodhcola',\n",
       " 'Famous Moonglet of Ghaziabad❤️\\n.\\nWatch the full video on my YouTube channel. Link is in my bio🤗\\n.\\n#foodieincarnate #reelitfeelit #reelkarofeelkaro #reels #reelsinstagram #streetfood #moonglet #ghaziabad #delhi',\n",
       " 'CHEESIEST TRIPLE DECKER SANDWICH 😱😱\\n.\\nIngredients: cheese, mayonnaise, tomato ketchup, chilli sauce, vegetables of your choice & salt for first spread. Butter, cheese, milk, green chilli & garlic for second spread.🤗🤗\\n.\\n#foodieincarnate #sodelhi #newdelhi #foodtalkindia #desifood #delhigram #indianfood #pizza #cheese #breadpizza #cheesy #paneer #recipes #recipes #homemadefood #delhi #delhifood #delhifoodie #delhifoodblogger #delhifoodguide #delhifoodies #food #foodporn #foodphotography #foodstagram #foodie #foodiesofinstagram #food52 #indianrecipes #indiancooking',\n",
       " \"India's Biggest Papdi Chaat🤩🤩\\n\\nKindly watch the full video for location, price & other details🤗🤗\\n.\\n#foodieincarnate #sodelhi #newdelhi #foodtalkindia #delhigram #indianfood #delhifoodblogger #foodgasm #foodporn #foodpornshare #foodlover #foodgram #foodiesofinstagram #foodie #indianstreetfood #streetfood #delhistreetfood #streetfoodindia #mumbaistreetfood #delhifoodie #foodblogger #indianfoodie #desikhana #indianfoodblogger #indianfoodbloggers #delhifood #mumbai #delhi #mainpuri #farrukhabad\",\n",
       " 'Modi jee ne bhi khaaya hai ye dahi bhalla😳😳\\n.\\nWatch the full video on my YouTube channel. Link is in my bio🤗🤗\\n.\\n#foodieincarnate #reelitfeelit #reelkarofeelkaro #reels #reelsinstagram #dahibhalla #modi #chaat #delhifoodie #delhi',\n",
       " \"Mumbai's famous Flying Vada Pav\\n\\n#streetfood #indianstreetfood #mumbaistreetfood #vadapav\",\n",
       " 'The famous Flying Dosa of Mumbai\\n\\n#streetfood #indianstreetfood #mumbaifoodie #indianfoodie #indianfoodbloggers #mumbaifoodblogger #thingstoeatinmumbai #mumbaistreetfood #indiancuisine #southindianfood',\n",
       " \"India's biggest Jumbo Gola at Balaji Beach shack, Juhu beach\\n\\n#streetfood #gola #mumbaifoodie #mumbaifoodlovers #indianstreetfood #desifood #indianfoodie #indianfoodbloggers #things2doinmumbai\",\n",
       " 'Famous Rajnikanth Style Dosa of Mumbai at Hindmata, Dadar\\n\\nDosa served like a boss!\\n#indianstreetfood #streetfood #dosa #mumbaifoodie #mumbaifoodblogger #indianfoodie #desifood #mumbaifood',\n",
       " 'Pav Bhaji is the heart and soul of every Mumbaikar ❤️\\n\\nUtterly Butterly delicious Sardar ki Pav Bhaji, Tardeo, Mumbai\\n\\n#streetfood #mumbaifoodie #mumbaistreetfood #pavbhaji #indianstreetfood #INDIANfoodbloggers #mumbaifoodlovers #mumbaifoodblogger #desifood',\n",
       " 'Super Cheesy Jini Dosa at Anand Stall, Mumbai\\n\\n#streetfood #dosa #southindianfood #masaladosa #foodtalkindia #desifood #cheeselover #indianfoodbloggers #mumbaifoodlovers #desikhana',\n",
       " 'Egg Paniyaram at Aunty Dosa, opp. Star Bazar, Andheri (w), Mumbai\\n\\n#streetfood #mumbaifoodlovers #indianstreetfood #southindianfood #paniyaram #egglover #eggilicious #desifood #mumbaifood #mumbaifoodblogger #foodofmumbai #indianfoodbloggers',\n",
       " 'Sigdi wala Desi Pasta at WTC Pasta, Khaugalli, Ghatkopar\\n\\nCreamy, Cheesy and yummy 😋\\n\\n#streetfood #pasta #cheeselover #yummy #mumbaifood #foodofmumbai #mumbaifoodblogger #indianfoodblogger #desifood',\n",
       " 'Delicious Super Cheesy Masala Cheese Kulcha!\\n\\nWhere : Delhi Ke Mashoor Chole kulche,\\nBackside of Vadodara Central Mall, Alkapuri, Vadodara\\n\\n#streetfood #indianstreetfood #chole #kulcha #desikhana #desikhana #indianfoodie #indianfoodblogger #delhifood #delhistreetfood #vadodarafoodies',\n",
       " 'Aloo Cheese Stuffed Buns Recipe without Microwave!\\n\\n#streetfood #buns #cheeselover #indianfoodblogger #indianrecipes #desikhana #desifood #foodtalkindia #mumbaifoodblogger #delhifoodblogger',\n",
       " 'Matcha or Coffee? @rubyscafe\\n\\n#rubyscafe #cafe #rubys #nycfood #nycdrinks #matcha #coffee #icedcoffee #cheers #thisorthat',\n",
       " 'Looking for a new spot to snack? @infatuation_nyc just added 14 more spots to their list of May openings, including a new bistro in Noho, a breakfast taco takeout window in Prospect Lefferts Gardens, and many more. Read the just-updated guide, in their bio.\\n\\n📸: @ericmedsker\\n\\n#infatuationnyc #eeeeeats #nycfood #nycfoodie #food #nyc #eatnyc #new #restaurant #snack #chips #potato',\n",
       " '@diandi.nyc Vietnamese hot pot with housemade special sauces and hand chopped shrimp paste with ginger and scallion! 3 cuts of beef, Cana noodles and assorted veggies as well 😍\\n\\n#diandi #vietnamesefood #vietnamese #hotpot #food #foodie #nycfood #eatnyc #yum #greenpoint #brooklyn',\n",
       " 'The @macchinanyc pop-up is going on at @thebedfordnyc right now and everyone NEEDS the chicken parm sliders!!\\n\\n#TheBedfordNYC #food #macchina #macchinanyc #popup #restaurant #collab #chickenparm #sliders #nycfood',\n",
       " 'Wow we have never seen anything like @gage.and.tollner Butter Roasted Hashbrown 🙌 50+ layers of thinly sliced potatoes, garlic cream and clarified butter roasted to crisp-edged perfection, topped with flaky sea salt and served in a pool of cream.\\n\\nSwipe ⬅️ to watch @dan__grossman’s expert (and very soothing 💆) hashbrown-building process!\\n\\n📸: @lizzieamunro\\n\\n#gageandtollner #nycfood #nyceats #brunch #hashbrowns #gourmet #food #yum #eat #potato',\n",
       " 'Who’s down for a pasta pick me up from @rosemarysnyc the rigatone alla vodka will really hit the spot 😍\\n\\n#rosemarys #nyc #nycfood #nycfoodie #pasta #rigatone #rigatoni #vodka #vodkasauce #food #yum #eat',\n",
       " 'Good morning from @guevarasongrand where Empanadas are for Breakfast ⛅️\\n\\n📸: @kilnandkitchen\\n\\n#food #goodmorning #empanadas #breakfast #brooklyn #guevaras #nycfood #nycfoodie #eatnyc #yum #eat',\n",
       " 'Pro tip for getting through the week: head to @murrayscheese and make a beautiful cheeseboard for dinner like this one by @lorrainestl 🧀🌺\\n\\n#cheese #murrayscheese #cheeseboard #charcuterieboard #charcuterie #shoplocal #nycfood #food #yum',\n",
       " 'Taco Tuesday vibes from @nenestaqueria 🌮\\n\\n#taco #tacotuesday #tacos #birria #birriatacos #nenes #taqueria #brooklyn #nyc #nycfood #nycfoodie',\n",
       " 'Fresh out of @mariocarbone’s kitchen, @carbonefinefood newest original recipe, Penne and Spicy Shrimp with Arrabiata Sauce 😍 Become an email subscriber for the recipe!\\n\\n#carbone #penne #shrimp #arrabiata #sauce #spicy #pasta #newyorkcity #nycfood #food #nyceats #recipe']"
      ]
     },
     "execution_count": 140,
     "metadata": {},
     "output_type": "execute_result"
    }
   ],
   "source": [
    "contents # Content from each handle first 10 posts"
   ]
  },
  {
   "cell_type": "markdown",
   "id": "9d5f633e",
   "metadata": {},
   "source": [
    "### Question 2.2"
   ]
  },
  {
   "cell_type": "code",
   "execution_count": 30,
   "id": "280fc226",
   "metadata": {},
   "outputs": [],
   "source": [
    "# Splitting the content by spaces to get the words used in the posts and storing them in words list\n",
    "words=[] \n",
    "for i in range(len(contents)):\n",
    "    words.append(contents[i].split(' '))"
   ]
  },
  {
   "cell_type": "code",
   "execution_count": 115,
   "id": "58297150",
   "metadata": {},
   "outputs": [
    {
     "name": "stdout",
     "output_type": "stream",
     "text": [
      "[['What’s', 'up', 'guys!', 'My', 'home-secret', 'Mango', 'Pickle', 'recipe', 'is', 'out', 'now', 'on', 'YouTube!', 'Check', 'it', 'out', 'now!', 'This', 'is', 'the', 'best', 'ever', 'Punjabi', 'aam', 'ka', 'achaar', 'you', 'are', 'gonna', 'have!\\nThis', 'is', 'my', 'Chaiji’s', 'recipe', 'which', 'I', 'have', 'learnt', 'from', 'my', 'Maa.', 'It’s', 'the', 'most', 'delicious', 'mango', 'pickle', 'I', 'have', 'always', 'been', 'having', 'since', 'I', 'was', 'a', 'kid.', 'It', 'has', 'this', 'distinct', 'saunf', 'flavor', '&', 'I', 'call', 'it', 'the', 'saunf', 'aur', 'aam', 'ka', 'achaar.', 'I', 'have', 'never', 'tasted', 'anything', 'like', 'this', 'ever.', 'Do', 'try', 'it', '&', 'let', 'me', 'know.', 'Do', 'share', 'the', 'video', '&', 'recipe', 'with', 'as', 'many', 'people', 'as', 'possible', 'so', 'that', 'everyone', 'could', 'enjoy', 'having', 'mere', 'ghar', 'ke', 'aam', 'ka', 'achaar', 'at', 'their', 'homes!\\nI', 'request', 'you', 'to', 'please', 'learn', 'your', 'home', 'secret', 'recipes', 'from', 'your', 'Granny,', 'grandfather,', 'mom', '&', 'dad', '&', 'keep', 'the', 'legacy', 'going.', 'Share', 'the', 'recipes', 'with', 'as', 'many', 'people', 'as', 'possible', 'so', 'that', 'everyone', 'could', 'enjoy', 'those', 'recipes.', 'Also,', 'don’t', 'make', 'it', 'a', 'gender', 'specific', 'role', 'to', 'keep', 'these', 'traditions', 'alive', '&', 'teach', 'men', '&', 'women', 'these', 'recipes', 'if', 'your', 'the', 'one', 'who', 'knows', 'some', 'secret', 'recipes', '&', 'if', 'you', 'are', 'the', 'one', 'who', 'is', 'on', 'the', 'learning', 'side,', 'learn', 'the', 'recipe', 'today', 'it', 'self!', 'Also', 'do', 'share', 'your', 'home', 'secret', 'recipes', 'with', 'me,', 'I', 'will', 'try', '&', 'recreate', 'those', 'recipes', 'in', 'my', 'kitchen!', 'Looking', 'forward!', 'Cheers!\\n.\\n.\\n.\\n.\\n#recipes', '#foodie', '#achaar', '#mango', '#mangoseason', '#mangorecipe', '#nostalgia', '#oldrecipes', '#streetfoodindia', '#mangoachar', '#sanjyotkeer', '#yourfoodlab', '#foodphotography', '#darkphotography', '#moody', '#throughyourlens'], ['Tava', 'Burger', 'by', 'Chef', '@sanjyotkeer\\n.\\n.\\n.\\n.\\n#recipe', '#foodie', '#foodporn', '#indiancuisine', '#streetfood', '#burger', '#burgerrecipe', '#streetfoodindia', '#foodporn'], ['Home-made', 'Mango', 'Squash', 'by', 'Chef', '@sanjyotkeer\\n\\nWhat’s', 'up', 'guys!', 'I', 'have', 'prepped', 'some', 'Home-made', 'Mango', 'Squash', '&', 'with', 'it', 'I', 'have', 'prepped', '4', 'delicious', 'mango', 'recipes.', 'Mango', 'Frooti,', 'Mango', 'Ice', 'Tea,', 'Mango', 'Milkshake', '&', 'Mango', 'Ice', 'Candy.\\nI', 'have', 'mentioned', 'all', 'tips', '&', 'tricks', 'to', 'prepare', 'a', 'delicious', 'Mango', 'squash', 'at', 'home', 'without', 'any', 'preservatives', '&', 'you', 'can', 'prepare', 'so', 'many', 'delicious', 'recipes', 'with', 'it', 'even', 'after', 'the', 'mango', 'season', 'is', 'over.\\nDo', 'check', 'out', 'the', 'video', '&', 'let', 'me', 'know!', 'Cheers!\\n.\\n.\\n.\\n.\\n#recipe', '#foodporn', '#foodphotography', '#icetea', '#mangomilkshake', '#mangoseason', '#mangolover', '#frooti', '#recipeoftheday', '#homemade', '#mangolove', '#sanjyotkeer', '#yourfoodlab', '#instadaily'], ['What’s', 'up', 'guys!', 'My', 'new', 'YFL', 'Mango', 'video', 'is', 'live', 'on', 'my', 'YouTube', 'channel!', 'I', 'have', 'prepped', 'some', 'Home-made', 'Mango', 'Squash', '&', 'with', 'it', 'I', 'have', 'prepped', '4', 'delicious', 'mango', 'recipes.', 'Mango', 'Frooti,', 'Mango', 'Ice', 'Tea,', 'Mango', 'Milkshake', '&', 'Mango', 'Ice', 'Candy.\\nI', 'have', 'mentioned', 'all', 'tips', '&', 'tricks', 'to', 'prepare', 'a', 'delicious', 'Mango', 'squash', 'at', 'home', 'without', 'any', 'preservatives', '&', 'you', 'can', 'prepare', 'so', 'many', 'delicious', 'recipes', 'with', 'it', 'even', 'after', 'the', 'mango', 'season', 'is', 'over.\\nDo', 'check', 'out', 'the', 'video', '&', 'let', 'me', 'know!', 'Cheers!\\n.\\n.\\n.\\n.\\n#recipe', '#foodporn', '#foodphotography', '#icetea', '#mangomilkshake', '#mangoseason', '#mangolover', '#frooti', '#recipeoftheday', '#homemade', '#mangolove', '#sanjyotkeer', '#yourfoodlab', '#instadaily'], ['YFL', 'LIVE', '-', 'Sunday,', '23/05/2021', 'at', '12:30', 'pm', 'IST\\n\\nAfter', 'a', 'successful', 'YFL', 'live', 'session', 'last', 'week', 'I', 'am', 'doing', 'another', 'live', 'cooking', 'stream', 'on', 'YouTube', 'tomorrow.', 'I', 'will', 'be', 'cooking', 'some', 'Mumbai', 'street', 'style', 'sandwiches,', 'an', 'absolute', 'favourite.', 'As', 'you', 'all', 'know', 'I', 'love', 'recreating', 'street', 'food', 'recipes', 'in', 'my', 'kitchen.', 'It', 'will', 'be', 'a', 'fun', 'session', 'where', 'I', 'will', 'answer', 'a', 'lot', 'of', 'your', 'questions', '&', 'also', 'cook', 'live.\\nIf', 'you', 'want', 'to', 'cook', 'along', 'with', 'me', 'you', 'can', 'find', 'the', 'ingredients', 'in', 'my', 'Mumbai', 'street', 'style', 'sandwich', '&', 'masala', 'toast', 'sandwich', 'recipes', 'on', 'YouTube.', 'You', 'could', 'pre', 'prep', 'the', 'components', 'with', 'me', '&', 'then', 'cook', 'some', 'sandwiches', 'for', 'your', 'Sunday', 'evening.', 'See', 'you', 'tomorrow', 'at', '12:30', 'pm', 'IST.\\nCheers!\\n.\\n.\\n.\\n.\\n#recipe', '#foodphotography', '#cooking', '#cookingvideos', '#cookingathome', '#cookinglive', '#homemade', '#sandwich', '#mumbaisandwich', '#livestream', '#sanjyotkeer', '#yourfoodlab'], ['Missi', 'Roti', 'with', 'some', 'home', 'made', 'white', 'butter', 'by', 'Chef', '@sanjyotkeer\\n\\nI', 'had', 'received', 'a', 'lot', 'of', 'requests', 'to', 'show', 'how', 'to', 'churn', 'white', 'butter', 'at', 'home', 'easily', '&', 'you', 'would', 'be', 'able', 'to', 'make', 'some', 'home-made', 'white', 'butter', 'quickly', 'by', 'this', 'recipe.\\nThe', 'missi', 'roti', 'turns', 'out', 'to', 'be', 'super', 'delicious', '&', 'I', 'have', 'used', 'some', 'dal', 'to', 'knead', 'the', 'dough.', 'It’s', 'super', 'healthy', '&', 'makes', 'a', 'really', 'good', 'breakfast', 'or', 'lunch', 'meal.\\nI', 'have', 'included', 'a', 'special', 'chutney', 'as', 'well', 'in', 'this', 'video.', 'Enjoy', 'the', 'recipe!', 'Cheers!\\n.\\n.\\n.\\n.\\n#recipes', '#recipeoftheday', '#makhan', '#butter', '#missiroti', '#indiancuisine', '#streetfood', '#foodporn', '#foodphotography', '#throughyourlens', '#streetfoodindia', '#homemade', '#homemadefood', '#sanjyotkeer', '#yourfoodlab'], ['What’s', 'up', 'guys!', 'New', 'recipe', 'video', 'is', 'up', 'on', 'the', 'YouTube', '&', 'Facebook', 'channel!', 'I', 'have', 'prepped', 'some', 'delicious', 'Missi', 'Roti', 'with', 'some', 'home', 'made', 'white', 'butter.\\nI', 'had', 'received', 'a', 'lot', 'of', 'requests', 'to', 'show', 'how', 'to', 'churn', 'white', 'butter', 'at', 'home', 'easily', '&', 'you', 'would', 'be', 'able', 'to', 'make', 'some', 'home-made', 'white', 'butter', 'quickly', 'by', 'this', 'recipe.\\nThe', 'missi', 'roti', 'turns', 'out', 'to', 'be', 'super', 'delicious', '&', 'I', 'have', 'used', 'some', 'dal', 'to', 'knead', 'the', 'dough.', 'It’s', 'super', 'healthy', '&', 'makes', 'a', 'really', 'good', 'breakfast', 'or', 'lunch', 'meal.\\nI', 'have', 'included', 'a', 'special', 'chutney', 'as', 'well', 'in', 'this', 'video.', 'Enjoy', 'the', 'recipe!', 'Cheers!\\n.\\n.\\n.\\n.\\n#recipes', '#recipeoftheday', '#makhan', '#butter', '#missiroti', '#indiancuisine', '#streetfood', '#foodporn', '#foodphotography', '#throughyourlens', '#streetfoodindia', '#homemade', '#homemadefood', '#sanjyotkeer', '#yourfoodlab'], ['Chicken', 'Hakka', 'Noodles', 'by', 'Chef', '@sanjyotkeer\\n.\\n.\\n.\\n.\\n#recipe', '#food', '#foodporn', '#streetfood', '#indiancuisine', '#noodles', '#noodleslover', '#streetfoodindia', '#foodie'], ['Stuffed', 'Mango', 'Kulfi', 'recipe', 'by', 'Chef', '@sanjyotkeer\\n\\nWhat’s', 'up', 'guys!\\nI', 'have', 'prepared', 'the', 'perfect,', 'rich', '&', 'creamy', 'Malai', 'kulfi', '&', 'Mango', 'Kulfi', 'and', 'I’ve', 'set', 'it', 'in', 'fresh', 'mangoes!', 'It', 'looks', 'so', 'beautiful', 'when', 'you', 'serve', 'it', 'and', 'tastes', 'incredible.', 'Best', 'part,', 'you', 'don’t', 'need', 'a', 'mould', 'to', 'set', 'this', 'kulfi', '&', 'the', 'recipe', 'is', 'super', 'simple.', 'You', 'get', 'these', 'fruit', 'kulfis', 'in', 'Delhi', '&', 'I', 'just', 'love', 'this', 'whole', 'concept.', 'Do', 'try', 'the', 'recipe,', 'I', 'am', 'sure', 'you', 'will', 'love', 'it!\\nCheers!\\n.\\n.\\n.\\n#mango', '#mangoicecream', '#mangoseason', '#kulfi', '#mangokulfi', '#mangolover', '#kulfilovers', '#streetfoodindia', '#indiancuisine', '#dessert', '#dessertsofinstagram', '#sanjyotkeer', '#yourfoodlab', '#instadailyphoto', '#stuffedkulfi'], ['What’s', 'up', 'guys!', 'My', 'Stuffed', 'Mango', 'Kulfi', 'recipe', 'is', 'out', 'now', 'on', 'YouTube', '&', 'Facebook', '!', 'I', 'have', 'prepared', 'the', 'perfect,', 'rich', '&', 'creamy', 'Malai', 'kulfi', '&', 'Mango', 'Kulfi', 'and', 'I’ve', 'set', 'it', 'in', 'fresh', 'mangoes!', 'It', 'looks', 'so', 'beautiful', 'when', 'you', 'serve', 'it', 'and', 'tastes', 'incredible.', 'Best', 'part,', 'you', 'don’t', 'need', 'a', 'mould', 'to', 'set', 'this', 'kulfi', '&', 'the', 'recipe', 'is', 'super', 'simple.', 'You', 'get', 'these', 'fruit', 'kulfis', 'in', 'Delhi', '&', 'I', 'just', 'love', 'this', 'whole', 'concept.', 'Do', 'try', 'the', 'recipe,', 'I', 'am', 'sure', 'you', 'will', 'love', 'it!\\nCheers!\\n.\\n.\\n.\\n#mango', '#mangoicecream', '#mangoseason', '#kulfi', '#mangokulfi', '#mangolover', '#kulfilovers', '#streetfoodindia', '#indiancuisine', '#dessert', '#dessertsofinstagram', '#sanjyotkeer', '#yourfoodlab', '#instadailyphoto', '#stuffedkulfi'], ['Tired', 'of', 'staring', 'at', 'your', 'screen', 'all', 'day', 'and', 'feel', 'the', 'need', 'for', 'a', 'good,', 'strong,', 'foamy', 'cuppa?', 'With', 'Sunbean', 'Beaten', 'Caffe', 'by', '@itcsunbean,', 'you', 'can', 'make', 'a', 'cup', 'of', 'beaten', 'coffee', 'in', '30', 'seconds!', 'No', 'more', 'whipping', 'till', 'your', 'elbows', 'hurt!', 'A', 'bad', 'day', 'with', 'coffee', 'is', 'better', 'than', 'a', 'good', 'day', 'without', 'it', '!\\n\\n#BeatenCoffeeHack,', '#Sunbeanbeatencaffe', '#BeatenCoffee', '#easycoffeeeasytimes', '#food', '#foodie', '#dalgonacoffee', '#coffee', '#coffeelover', '#coffeetime', '#coffeeholic'], ['Tired', 'of', 'staring', 'at', 'your', 'screen', 'all', 'day', 'and', 'feel', 'the', 'need', 'for', 'a', 'good,', 'strong,', 'foamy', 'cuppa?', 'With', 'Sunbean', 'Beaten', 'Caffe', 'by', '@itcsunbean,', 'you', 'can', 'make', 'a', 'cup', 'of', 'beaten', 'coffee', 'in', '30', 'seconds!', 'No', 'more', 'whipping', 'till', 'your', 'elbows', 'hurt!', 'A', 'bad', 'day', 'with', 'coffee', 'is', 'better', 'than', 'a', 'good', 'day', 'without', 'it', '!\\n\\n#BeatenCoffeeHack,', '#Sunbeanbeatencaffe', '#BeatenCoffee', '#easycoffeeeasytimes', '#food', '#foodie', '#dalgonacoffee', '#coffee', '#coffeelover', '#coffeetime', '#coffeeholic'], ['Tomato', 'Bonda', 'is', 'an', 'amazing', 'twist', 'to', 'regular', 'bonda!!!', 'Try', 'this', 'easy', 'yet', 'tasty', 'recipe', 'and', 'enjoy', 'your', 'weekend', '😀'], ['Cheese', 'Pav', 'bhaji', 'is', 'one', 'of', 'the', 'best', 'version', 'of', 'street', 'food', 'we', 'all', 'have', 'ever', 'tasted.', 'We', 'have', 'just', 'tried', 'to', 'serve', 'it', 'in', 'a', 'most', 'convenient', 'yet', 'cheesy', 'way', 'with', '@gocheesein', '😋This', 'recipe', 'is', 'specially', 'for', 'all', 'cheese', 'lovers', 'out', 'there', 'cause', '#HarTastyCheezMeinGoCheese', '!!!', 'Ingredients:\\n2', 'cup', 'Refined', 'Flour\\n1/2', 'cup', 'Water\\n1/2', 'cup', 'Warm', 'Milk\\n1', 'tsp', 'Salt\\n1', 'tsp', 'Yeast\\n1/2', 'tsp', 'Sugar\\n1', 'tsp', 'Oil\\n1', 'cup', 'Pav', 'Bhaji\\nGo', 'Pizza', 'Cheese\\nButter\\n\\nMethod:\\n\\nIn', 'a', 'warm', 'milk', 'add', 'sugar', 'and', 'yeast', 'and', 'rest', 'it', 'for', '10', 'minutes.', 'Once', 'the', 'mixture', 'become', 'bubbly', 'add', 'it', 'to', 'refined', 'flour.', 'Add', 'salt', 'and', 'water', 'to', 'the', 'flour', 'and', 'combine', 'to', 'make', 'a', 'soft', 'dough.', 'Rest', 'it', 'for', '30', 'minutes', 'or', 'till', 'it', 'doubles', 'in', 'size.\\n—\\nIn', 'a', 'cup', 'of', 'pav', 'bhaji', 'add', 'grated', 'Go', 'Pizza', 'Cheese.', 'Mix', 'it', 'well.\\n—\\nPuncture', 'the', 'dough', 'and', 'roll', 'it.', 'Cut', 'the', 'circles', 'from', 'this', 'sheet', 'with', 'the', 'help', 'of', 'cookie', 'cutter.\\n—\\nSpread', 'Pav', 'bhaji', 'on', 'this', 'and', 'shape', 'it', 'as', 'shown', 'in', 'video.\\n—\\nArrange', 'these', 'shapes', 'to', 'form', 'flower', 'out', 'of', 'it.', 'Add', 'Go', 'Pizza', 'Cheese', 'between', 'two', 'petals.\\n—\\nBake', 'it', '@200', 'degree', 'for', '15-20', 'minutes.\\n—\\nServe', 'hot', 'with', 'cheesy', 'dip', 'or', 'ketchup!!!', '#cheese', '#pavbhaji', '#cheesy', '#gocheese', '#foodie', '#foodrushrecipe', '#food', '#recipe', '#bakery', '#bread', '#streetfood', '#twist', '#party', '#foodphotography'], ['Cheese', 'Pav', 'bhaji', 'is', 'one', 'of', 'the', 'best', 'version', 'of', 'street', 'food', 'we', 'all', 'have', 'ever', 'tasted.', 'We', 'have', 'just', 'tried', 'to', 'serve', 'it', 'in', 'a', 'most', 'convenient', 'yet', 'cheesy', 'way', 'with', '@gocheesein', '😋This', 'recipe', 'is', 'specially', 'for', 'all', 'cheese', 'lovers', 'out', 'there', 'cause', '#HarTastyCheezMeinGoCheese', '!!!', 'Ingredients:\\n2', 'cup', 'Refined', 'Flour\\n1/2', 'cup', 'Water\\n1/2', 'cup', 'Warm', 'Milk\\n1', 'tsp', 'Salt\\n1', 'tsp', 'Yeast\\n1/2', 'tsp', 'Sugar\\n1', 'tsp', 'Oil\\n1', 'cup', 'Pav', 'Bhaji\\nGo', 'Pizza', 'Cheese\\nButter\\n\\nMethod:\\n\\nIn', 'a', 'warm', 'milk', 'add', 'sugar', 'and', 'yeast', 'and', 'rest', 'it', 'for', '10', 'minutes.', 'Once', 'the', 'mixture', 'become', 'bubbly', 'add', 'it', 'to', 'refined', 'flour.', 'Add', 'salt', 'and', 'water', 'to', 'the', 'flour', 'and', 'combine', 'to', 'make', 'a', 'soft', 'dough.', 'Rest', 'it', 'for', '30', 'minutes', 'or', 'till', 'it', 'doubles', 'in', 'size.\\n—\\nIn', 'a', 'cup', 'of', 'pav', 'bhaji', 'add', 'grated', 'Go', 'Pizza', 'Cheese.', 'Mix', 'it', 'well.\\n—\\nPuncture', 'the', 'dough', 'and', 'roll', 'it.', 'Cut', 'the', 'circles', 'from', 'this', 'sheet', 'with', 'the', 'help', 'of', 'cookie', 'cutter.\\n—\\nSpread', 'Pav', 'bhaji', 'on', 'this', 'and', 'shape', 'it', 'as', 'shown', 'in', 'video.\\n—\\nArrange', 'these', 'shapes', 'to', 'form', 'flower', 'out', 'of', 'it.', 'Add', 'Go', 'Pizza', 'Cheese', 'between', 'two', 'petals.\\n—\\nBake', 'it', '@200', 'degree', 'for', '15-20', 'minutes.\\n—\\nServe', 'hot', 'with', 'cheesy', 'dip', 'or', 'ketchup!!!', '#cheese', '#pavbhaji', '#cheesy', '#gocheese', '#foodie', '#foodrushrecipe', '#food', '#recipe', '#bakery', '#bread', '#streetfood', '#twist', '#party', '#foodphotography'], ['Stuffed', 'Paneer', 'Bread', 'Pakora', '!!!', 'Sound', 'exciting', 'right,', 'its', 'just', 'so', 'tasty', 'that', 'you', 'will', 'love', 'it', 'at', 'its', 'first', 'bite', '😋', '#paneer', '#bread', '#pakora', '#fried', '#breadpakoda', '#masala', '#recipe', '#streetfood', '#streetstyle', '#india', '#indian', '#indianfood', '#food', '#foodie', '#homemade'], ['Happy', 'new', 'year', 'to', 'all', 'foodies!!', '🥳🥳🥳Try', 'this', 'super', 'amazing', 'Hot', 'Chocolate', 'Bombs', 'to', 'make', 'your', 'winter', 'warm', 'and', 'comfortable', '😉', 'These', 'magical', 'chocolate', 'bombs', 'will', 'melt', 'in', 'hot', 'milk', 'just', 'like', 'this', '😋#newyear', '#chocolate', '#coco', '#cocoa', '#bombs', '#chocolatebomb', '#hotchocolate', '#winter', '#winterseason', '#recipe', '#magic', '#food', '#foodie'], ['Egg', 'chilli', '!!!', 'Want', 'to', 'plan', 'some', 'easier', 'and', 'fastest', 'recipe', 'on', 'this', 'New', 'Year', 'eve', 'try', 'this', 'simplest', 'yet', 'tastier', 'indo', 'Chinese', 'recipe', '😋', '#egg', '#indochinese', '#chinese', '#chinesefood', '#recipes', '#food', '#foodie', '#foodporn', '#foodstagram', '#fusion', '#chilli', '#fried', '#newyear', '#newyear2021', '#newyeareve'], ['Malai', 'Chicken', 'tikka', 'is', 'mouthwatering', 'juicy', 'grilled', 'chicken', '!!!', 'Its', 'made', 'using', 'green', 'chilli,', 'garlic,', 'lemon,', 'malai', 'and', 'one', 'special', 'ingredient', 'thats', '@californiawalnutsindia', 'Walnuts', 'not', 'just', 'makes', 'it', 'taste', 'better', 'but', 'also', 'makes', 'it', 'healthier', '😀', 'try', 'this', 'juicy', 'soft', 'kebab', 'on', 'skewers', 'that', 'will', 'melt', 'in', 'your', 'mouth', '😋\\n\\nIngredients', ':\\n500', 'gm', 'Chicken', 'Salt', 'to', 'taste\\n1/4', 'tsp', 'Black', 'Pepper\\n1.5', 'tbsp', 'Ginger', 'Garlic', 'Paste', '2', 'tbsp', 'California', 'Walnuts\\n3/4', 'cup', 'Hung', 'Curd\\n1/2', 'cup', 'Fresh', 'Cream\\n1', 'tsp', 'Green', 'Chillies\\n1', 'tsp', 'Garam', 'Masala\\n1', 'tsp', 'Kasuri', 'Methi\\n1', 'tbsp', 'Fresh', 'Coriander\\n1', 'tbsp', 'Corn', 'Starch\\nFinely', 'Chopped', 'California', 'Walnuts\\nButter\\n\\nMethod:\\n\\nMarinate', 'chicken', 'using', 'salt,', 'black', 'pepper', 'and', 'ginger', 'garlic', 'paste.', 'Rest', 'it', 'for', '15', 'minutes.\\n—\\nMake', 'fine', 'paste', 'of', 'California', 'walnuts.\\n—\\nIn', 'a', 'bowl', 'take', 'hung', 'curd,', 'fresh', 'cream,', 'green', 'chillies,', 'salt,', 'kauri', 'methi,', 'walnuts', 'paste,', 'fresh', 'coriander', 'and', 'cornstarch.', 'Mix', 'it', 'well.\\n—\\nAdd', 'marinated', 'chicken', 'to', 'this', 'mixture', 'and', 'coat', 'all', 'chicken', 'pieces', 'with', 'it.\\n—\\nPlace', 'small', 'bowl', 'over', 'this', 'mixture.', 'In', 'a', 'small', 'bowl', 'take', 'heated', 'coal', 'add', 'ghee', 'to', 'it', 'and', 'cover', 'it', 'immediately.', 'Let', 'it', 'covered', 'for', '2-3', 'minutes.\\n—\\nRemove', 'coal', 'bowl', 'from', 'this', 'and', 'add', 'some', 'chopped', 'walnuts', 'mixture', 'and', 'mix', 'it', 'again.\\n—\\nThread', 'this', 'chicken', 'into', 'skewer.', 'Grill', 'it', 'on', 'medium', 'low', 'flame', 'for', 'around', '5-10', 'minutes.\\n—\\nSqueeze', 'some', 'lemon', 'juice', 'over', 'this', 'grilled', 'chicken', 'and', 'garnish', 'with', 'fresh', 'cream', 'and', 'coriander.\\n—\\nServe', 'hot', 'with', 'green', 'chutney', '!!!\\n\\n#MakingEverydayHealthy', '#californiawalnuts', '#chicken', '#grill', '#malaichicken', '#food', '#recipe', '#foodie', '#homemade'], ['Whip-up', 'this', 'delectable', 'Open', 'Cheese', 'Toast', 'sandwich', 'recipe', 'loaded', 'with', 'the', 'goodness', 'of', 'Austrian', 'cheese', 'triangles', 'whenever', 'hunger', 'strikes.', 'Austrian', 'cheese', 'triangles', 'are', 'especially', 'soft', 'and', 'creamy', 'and', 'produced', 'from', 'the', 'finest', 'ingredients.', 'You', 'can', 'also', 'use', 'Blue', 'cheese', 'from', 'France', 'for', 'this', 'recipe', '😉\\nThis', 'post', 'is', 'funded', 'with', 'aid', 'from', 'European', 'Union.\\n\\nIngredients', ':\\n\\nBaguette', 'Slice\\nMelted', 'butte\\nAustrian', 'Cheese', 'Triangles\\n1', 'tbsp', 'Oregano', 'mix', 'herbs\\n1', 'tbsp', 'Garlic\\n1', 'tsp', 'Butter\\n1', 'tbsp', 'Balsamic', 'Vinegar\\n1/2', 'cup', 'Cherry', 'Tomato\\nSalt', 'to', 'taste\\nPepper', 'to', 'taste\\nPesto', 'Sauce\\nBasil', 'Leaves\\n\\nMethod:\\nSpread', 'some', 'melted', 'butter', 'on', 'a', 'baguette', 'slice.', 'Bake', 'it', 'at', '200', 'degree', 'celcius', 'for', '10', 'minutes.\\n--\\nIn', 'a', 'bowl', 'take', 'Austrian', 'cheese', 'triangle', 'add', 'Oregano', 'mix', 'herbs', 'and', 'finely', 'chopped', 'garlic', 'to', 'it.', 'mIx', 'it', 'well.\\n--\\nIn', 'a', 'flat', 'pan', 'take', 'some', 'butter.', 'Add', 'Balsamic', 'vinegar', 'to', 'it.', 'Toast', 'cherry', 'tomatoes', 'in', 'it.', 'Add', 'salt', 'and', 'pepper', 'to', 'taste.\\n--\\nTake', 'baked', 'baguette', 'slice.', 'Spread', 'Seasoned', 'cheese', 'over', 'it.', 'Add', 'some', 'roasted', 'tomatoes.', 'spread', 'some', 'pesto', 'sauce', 'over', 'it', 'and', 'garnish', 'with', 'fresh', 'basil', 'leaves.\\n--\\nServe', 'with', 'your', 'favorite', 'condiments', '!!\\n\\n#EnjoyitsFromEurope', '#EuropeHomeOfCheese', '#AustrianCheese', '#cheese', '#recipe', '#food', '#foodie', '#foodofinstagram', '#bread', '#opentoast', '#sandwich'], ['Now', 'experience', 'the', 'Royal', 'Biryani', 'from', '@behrouzbiryani', 'at', 'half', 'price🤩🤩', 'Use', 'code', 'ROYAL50', '&', 'get', '50%', 'off', 'on', 'www.behrouzbiryani.com', 'T&C', 'applied*\\n.\\n#foodieincarnate', '#BehrouzBiryani', '#reelitfeelit', '#reelkarofeelkaro', '#reelsinstagram', '#reels', '#biryani', '#biryanilovers', '#biryanilove', '#biryanirecipe', '#biryanilover'], ['We', 'are', 'now', 'a', 'family', 'of', '4,00,000+', 'people❤❤', 'From', 'being', 'on', 'top', 'to', 'getting', 'my', 'page', 'deleted,', 'from', 'starting', 'all', 'over', 'again', 'to', 'again', 'reaching', 'at', 'the', 'top..this', 'has', 'been', 'an', 'incredible', 'journey', 'and', 'it', \"wouldn't\", 'have', 'been', 'possible', 'without', 'the', 'support', 'of', 'you', 'guys.', 'Thank', 'you', 'every', 'single', 'one', 'of', 'you.', 'The', 'admirers,', 'the', 'haters..every', 'single', 'one', 'of', 'you', 'has', 'played', 'a', 'part', 'in', 'this', 'page', 'becoming', 'so', 'big.', 'Thank', 'you', 'guys.', 'And', 'yes!', 'Much', 'more', 'never', 'seen', 'before', 'content', 'is', 'coming!', 'So', 'stay', 'tuned🤗\\n.\\nP.S.', 'no', 'plastic', 'balloons', 'celebration', 'because', 'unlike', 'some', 'other', 'influencers,', 'my', 'care', '&', 'love', 'for', 'environment', \"doesn't\", 'come', 'out', 'of', 'hibernation', 'only', 'on', 'Holi', '&', 'Diwali🤭🤗\\n.\\n#foodieincarnate', '#amarsirohi', '#sodelhi', '#foodblogger', '#delhifoodblogger', '#delhifoodbloggers', '#delhibloggers', '#indianfoodblogger', '#delhifoodbloggers', '#indianfoodbloggers', '#foodblogger', '#foodbloggers', '#lifestyleblogger', '#delhiblogger', '#mumbaiblogger', '#kolkatablogger', '#bangaloreblogger', '#foodblog', '#delhifoodie', '#mumbaifoodie', '#kolkata', '#400K', '#mumbaifoodblogger', '#indoreblogger', '#indorefoodblogger', '#kolkatafoodblogger', '#delhifoodblog', '#kolkatafoodie', '#mumbaifoodie', '#raipurfoodblogger'], [\"Indore's\", 'Famous', 'MURDER', 'Wala', 'Coconut', 'Crush😳😳\\n\\nKindly', 'watch', 'the', 'full', 'video', 'for', 'location,', 'price', '&', 'other', 'details🤗🤗\\n.\\n#foodieincarnate', '#sodelhi', '#newdelhi', '#foodtalkindia', '#delhigram', '#indianfood', '#delhifoodblogger', '#foodgasm', '#foodporn', '#foodpornshare', '#foodlover', '#foodgram', '#foodiesofinstagram', '#foodie', '#indianstreetfood', '#streetfood', '#delhistreetfood', '#streetfoodindia', '#mumbaistreetfood', '#delhifoodie', '#foodblogger', '#indianfoodie', '#desikhana', '#indianfoodblogger', '#indianfoodbloggers', '#delhifood', '#mumbai', '#delhi', '#indore', '#coconutcrush'], ['Cutie', 'Pie', 'Pizza🍕🍕', '35', 'Rs', 'only🤗🤗\\n.\\n#foodieincarnate', '#reelkarofeelkaro', '#reelitfeelit', '#reels', '#reelsinstagram', '#pizza', '#delhifoodie', '#delhifood', '#pizzalover'], ['Somewhere', 'in', 'Central', 'India🇮🇳\\n.\\nWho', 'is', 'excited', 'to', 'watch', 'the', 'never', 'seen', 'before', 'dishes', 'from', 'this', 'region??\\n.\\n#foodieincarnate', '#sodelhi', '#newdelhi', '#foodtalkindia', '#foodblogger', '#travelblogger', '#delhifoodblogger', '#delhifoodbloggers', '#madhyapradhesh', '#chattisgarh', '#centralindia', '#shivpuri', '#guna', '#gwalior', '#biaora', '#dewas', '#ashoknagar', '#bhopal', '#indore', '#blogger', '#amarsirohi', '#vidisha', '#ujjain', '#sagar', '#katni', '#jabalpur', '#bilaspur', '#korba', '#raipur', '#satna'], ['ThumsUp', 'Milk', 'of', 'Kolkata🥵🥵\\n\\nKindly', 'watch', 'the', 'full', 'video', 'for', 'location,', 'price', '&', 'other', 'details🤗🤗\\n.\\n#foodieincarnate', '#sodelhi', '#newdelhi', '#foodtalkindia', '#delhigram', '#indianfood', '#delhifoodblogger', '#foodgasm', '#foodporn', '#foodpornshare', '#foodlover', '#foodgram', '#foodiesofinstagram', '#foodie', '#indianstreetfood', '#streetfood', '#delhistreetfood', '#streetfoodindia', '#mumbaistreetfood', '#delhifoodie', '#foodblogger', '#indianfoodie', '#desikhana', '#indianfoodblogger', '#indianfoodbloggers', '#delhifood', '#mumbai', '#delhi', '#kolkata', '#doodhcola'], ['Famous', 'Moonglet', 'of', 'Ghaziabad❤️\\n.\\nWatch', 'the', 'full', 'video', 'on', 'my', 'YouTube', 'channel.', 'Link', 'is', 'in', 'my', 'bio🤗\\n.\\n#foodieincarnate', '#reelitfeelit', '#reelkarofeelkaro', '#reels', '#reelsinstagram', '#streetfood', '#moonglet', '#ghaziabad', '#delhi'], ['CHEESIEST', 'TRIPLE', 'DECKER', 'SANDWICH', '😱😱\\n.\\nIngredients:', 'cheese,', 'mayonnaise,', 'tomato', 'ketchup,', 'chilli', 'sauce,', 'vegetables', 'of', 'your', 'choice', '&', 'salt', 'for', 'first', 'spread.', 'Butter,', 'cheese,', 'milk,', 'green', 'chilli', '&', 'garlic', 'for', 'second', 'spread.🤗🤗\\n.\\n#foodieincarnate', '#sodelhi', '#newdelhi', '#foodtalkindia', '#desifood', '#delhigram', '#indianfood', '#pizza', '#cheese', '#breadpizza', '#cheesy', '#paneer', '#recipes', '#recipes', '#homemadefood', '#delhi', '#delhifood', '#delhifoodie', '#delhifoodblogger', '#delhifoodguide', '#delhifoodies', '#food', '#foodporn', '#foodphotography', '#foodstagram', '#foodie', '#foodiesofinstagram', '#food52', '#indianrecipes', '#indiancooking'], [\"India's\", 'Biggest', 'Papdi', 'Chaat🤩🤩\\n\\nKindly', 'watch', 'the', 'full', 'video', 'for', 'location,', 'price', '&', 'other', 'details🤗🤗\\n.\\n#foodieincarnate', '#sodelhi', '#newdelhi', '#foodtalkindia', '#delhigram', '#indianfood', '#delhifoodblogger', '#foodgasm', '#foodporn', '#foodpornshare', '#foodlover', '#foodgram', '#foodiesofinstagram', '#foodie', '#indianstreetfood', '#streetfood', '#delhistreetfood', '#streetfoodindia', '#mumbaistreetfood', '#delhifoodie', '#foodblogger', '#indianfoodie', '#desikhana', '#indianfoodblogger', '#indianfoodbloggers', '#delhifood', '#mumbai', '#delhi', '#mainpuri', '#farrukhabad'], ['Modi', 'jee', 'ne', 'bhi', 'khaaya', 'hai', 'ye', 'dahi', 'bhalla😳😳\\n.\\nWatch', 'the', 'full', 'video', 'on', 'my', 'YouTube', 'channel.', 'Link', 'is', 'in', 'my', 'bio🤗🤗\\n.\\n#foodieincarnate', '#reelitfeelit', '#reelkarofeelkaro', '#reels', '#reelsinstagram', '#dahibhalla', '#modi', '#chaat', '#delhifoodie', '#delhi'], [\"Mumbai's\", 'famous', 'Flying', 'Vada', 'Pav\\n\\n#streetfood', '#indianstreetfood', '#mumbaistreetfood', '#vadapav'], ['The', 'famous', 'Flying', 'Dosa', 'of', 'Mumbai\\n\\n#streetfood', '#indianstreetfood', '#mumbaifoodie', '#indianfoodie', '#indianfoodbloggers', '#mumbaifoodblogger', '#thingstoeatinmumbai', '#mumbaistreetfood', '#indiancuisine', '#southindianfood'], [\"India's\", 'biggest', 'Jumbo', 'Gola', 'at', 'Balaji', 'Beach', 'shack,', 'Juhu', 'beach\\n\\n#streetfood', '#gola', '#mumbaifoodie', '#mumbaifoodlovers', '#indianstreetfood', '#desifood', '#indianfoodie', '#indianfoodbloggers', '#things2doinmumbai'], ['Famous', 'Rajnikanth', 'Style', 'Dosa', 'of', 'Mumbai', 'at', 'Hindmata,', 'Dadar\\n\\nDosa', 'served', 'like', 'a', 'boss!\\n#indianstreetfood', '#streetfood', '#dosa', '#mumbaifoodie', '#mumbaifoodblogger', '#indianfoodie', '#desifood', '#mumbaifood'], ['Pav', 'Bhaji', 'is', 'the', 'heart', 'and', 'soul', 'of', 'every', 'Mumbaikar', '❤️\\n\\nUtterly', 'Butterly', 'delicious', 'Sardar', 'ki', 'Pav', 'Bhaji,', 'Tardeo,', 'Mumbai\\n\\n#streetfood', '#mumbaifoodie', '#mumbaistreetfood', '#pavbhaji', '#indianstreetfood', '#INDIANfoodbloggers', '#mumbaifoodlovers', '#mumbaifoodblogger', '#desifood'], ['Super', 'Cheesy', 'Jini', 'Dosa', 'at', 'Anand', 'Stall,', 'Mumbai\\n\\n#streetfood', '#dosa', '#southindianfood', '#masaladosa', '#foodtalkindia', '#desifood', '#cheeselover', '#indianfoodbloggers', '#mumbaifoodlovers', '#desikhana'], ['Egg', 'Paniyaram', 'at', 'Aunty', 'Dosa,', 'opp.', 'Star', 'Bazar,', 'Andheri', '(w),', 'Mumbai\\n\\n#streetfood', '#mumbaifoodlovers', '#indianstreetfood', '#southindianfood', '#paniyaram', '#egglover', '#eggilicious', '#desifood', '#mumbaifood', '#mumbaifoodblogger', '#foodofmumbai', '#indianfoodbloggers'], ['Sigdi', 'wala', 'Desi', 'Pasta', 'at', 'WTC', 'Pasta,', 'Khaugalli,', 'Ghatkopar\\n\\nCreamy,', 'Cheesy', 'and', 'yummy', '😋\\n\\n#streetfood', '#pasta', '#cheeselover', '#yummy', '#mumbaifood', '#foodofmumbai', '#mumbaifoodblogger', '#indianfoodblogger', '#desifood'], ['Delicious', 'Super', 'Cheesy', 'Masala', 'Cheese', 'Kulcha!\\n\\nWhere', ':', 'Delhi', 'Ke', 'Mashoor', 'Chole', 'kulche,\\nBackside', 'of', 'Vadodara', 'Central', 'Mall,', 'Alkapuri,', 'Vadodara\\n\\n#streetfood', '#indianstreetfood', '#chole', '#kulcha', '#desikhana', '#desikhana', '#indianfoodie', '#indianfoodblogger', '#delhifood', '#delhistreetfood', '#vadodarafoodies'], ['Aloo', 'Cheese', 'Stuffed', 'Buns', 'Recipe', 'without', 'Microwave!\\n\\n#streetfood', '#buns', '#cheeselover', '#indianfoodblogger', '#indianrecipes', '#desikhana', '#desifood', '#foodtalkindia', '#mumbaifoodblogger', '#delhifoodblogger'], ['Matcha', 'or', 'Coffee?', '@rubyscafe\\n\\n#rubyscafe', '#cafe', '#rubys', '#nycfood', '#nycdrinks', '#matcha', '#coffee', '#icedcoffee', '#cheers', '#thisorthat'], ['Looking', 'for', 'a', 'new', 'spot', 'to', 'snack?', '@infatuation_nyc', 'just', 'added', '14', 'more', 'spots', 'to', 'their', 'list', 'of', 'May', 'openings,', 'including', 'a', 'new', 'bistro', 'in', 'Noho,', 'a', 'breakfast', 'taco', 'takeout', 'window', 'in', 'Prospect', 'Lefferts', 'Gardens,', 'and', 'many', 'more.', 'Read', 'the', 'just-updated', 'guide,', 'in', 'their', 'bio.\\n\\n📸:', '@ericmedsker\\n\\n#infatuationnyc', '#eeeeeats', '#nycfood', '#nycfoodie', '#food', '#nyc', '#eatnyc', '#new', '#restaurant', '#snack', '#chips', '#potato'], ['@diandi.nyc', 'Vietnamese', 'hot', 'pot', 'with', 'housemade', 'special', 'sauces', 'and', 'hand', 'chopped', 'shrimp', 'paste', 'with', 'ginger', 'and', 'scallion!', '3', 'cuts', 'of', 'beef,', 'Cana', 'noodles', 'and', 'assorted', 'veggies', 'as', 'well', '😍\\n\\n#diandi', '#vietnamesefood', '#vietnamese', '#hotpot', '#food', '#foodie', '#nycfood', '#eatnyc', '#yum', '#greenpoint', '#brooklyn'], ['The', '@macchinanyc', 'pop-up', 'is', 'going', 'on', 'at', '@thebedfordnyc', 'right', 'now', 'and', 'everyone', 'NEEDS', 'the', 'chicken', 'parm', 'sliders!!\\n\\n#TheBedfordNYC', '#food', '#macchina', '#macchinanyc', '#popup', '#restaurant', '#collab', '#chickenparm', '#sliders', '#nycfood'], ['Wow', 'we', 'have', 'never', 'seen', 'anything', 'like', '@gage.and.tollner', 'Butter', 'Roasted', 'Hashbrown', '🙌', '50+', 'layers', 'of', 'thinly', 'sliced', 'potatoes,', 'garlic', 'cream', 'and', 'clarified', 'butter', 'roasted', 'to', 'crisp-edged', 'perfection,', 'topped', 'with', 'flaky', 'sea', 'salt', 'and', 'served', 'in', 'a', 'pool', 'of', 'cream.\\n\\nSwipe', '⬅️', 'to', 'watch', '@dan__grossman’s', 'expert', '(and', 'very', 'soothing', '💆)', 'hashbrown-building', 'process!\\n\\n📸:', '@lizzieamunro\\n\\n#gageandtollner', '#nycfood', '#nyceats', '#brunch', '#hashbrowns', '#gourmet', '#food', '#yum', '#eat', '#potato'], ['Who’s', 'down', 'for', 'a', 'pasta', 'pick', 'me', 'up', 'from', '@rosemarysnyc', 'the', 'rigatone', 'alla', 'vodka', 'will', 'really', 'hit', 'the', 'spot', '😍\\n\\n#rosemarys', '#nyc', '#nycfood', '#nycfoodie', '#pasta', '#rigatone', '#rigatoni', '#vodka', '#vodkasauce', '#food', '#yum', '#eat'], ['Good', 'morning', 'from', '@guevarasongrand', 'where', 'Empanadas', 'are', 'for', 'Breakfast', '⛅️\\n\\n📸:', '@kilnandkitchen\\n\\n#food', '#goodmorning', '#empanadas', '#breakfast', '#brooklyn', '#guevaras', '#nycfood', '#nycfoodie', '#eatnyc', '#yum', '#eat'], ['Pro', 'tip', 'for', 'getting', 'through', 'the', 'week:', 'head', 'to', '@murrayscheese', 'and', 'make', 'a', 'beautiful', 'cheeseboard', 'for', 'dinner', 'like', 'this', 'one', 'by', '@lorrainestl', '🧀🌺\\n\\n#cheese', '#murrayscheese', '#cheeseboard', '#charcuterieboard', '#charcuterie', '#shoplocal', '#nycfood', '#food', '#yum'], ['Taco', 'Tuesday', 'vibes', 'from', '@nenestaqueria', '🌮\\n\\n#taco', '#tacotuesday', '#tacos', '#birria', '#birriatacos', '#nenes', '#taqueria', '#brooklyn', '#nyc', '#nycfood', '#nycfoodie'], ['Fresh', 'out', 'of', '@mariocarbone’s', 'kitchen,', '@carbonefinefood', 'newest', 'original', 'recipe,', 'Penne', 'and', 'Spicy', 'Shrimp', 'with', 'Arrabiata', 'Sauce', '😍', 'Become', 'an', 'email', 'subscriber', 'for', 'the', 'recipe!\\n\\n#carbone', '#penne', '#shrimp', '#arrabiata', '#sauce', '#spicy', '#pasta', '#newyorkcity', '#nycfood', '#food', '#nyceats', '#recipe']]\n"
     ]
    }
   ],
   "source": [
    "print(words) # Printing the list to get the words used in the posts"
   ]
  },
  {
   "cell_type": "code",
   "execution_count": 32,
   "id": "311c9e42",
   "metadata": {},
   "outputs": [],
   "source": [
    "import itertools # Importing required lib to convert 2-D list into 1-D list\n",
    "d={} #Initialising an empty list to store the count of each word\n",
    "# Converting 2-D list into 1-D list\n",
    "list2d = [i for i in words]\n",
    "list_words = list(itertools.chain(*list2d))\n",
    "# Storing the count of each word in the dictionary\n",
    "for i in list_words:\n",
    "    if i in d:\n",
    "        d[i]+=1\n",
    "    else:\n",
    "        d[i]=1"
   ]
  },
  {
   "cell_type": "code",
   "execution_count": 141,
   "id": "d98227ac",
   "metadata": {},
   "outputs": [
    {
     "name": "stdout",
     "output_type": "stream",
     "text": [
      "[['What’s', 4], ['up', 8], ['guys!', 5], ['My', 3], ['home-secret', 1], ['Mango', 19], ['Pickle', 1], ['recipe', 16], ['is', 26], ['out', 13], ['now', 4], ['on', 19], ['YouTube!', 1], ['Check', 1], ['it', 45], ['now!', 1], ['This', 1], ['the', 60], ['best', 3], ['ever', 3], ['Punjabi', 1], ['aam', 3], ['ka', 3], ['achaar', 2], ['you', 24], ['are', 5], ['gonna', 1], ['have!\\nThis', 1], ['my', 12], ['Chaiji’s', 1], ['which', 1], ['I', 22], ['have', 22], ['learnt', 1], ['from', 14], ['Maa.', 1], ['It’s', 3], ['most', 3], ['delicious', 11], ['mango', 5], ['pickle', 1], ['always', 1], ['been', 3], ['having', 2], ['since', 1], ['was', 1], ['a', 43], ['kid.', 1], ['It', 4], ['has', 3], ['this', 30], ['distinct', 1], ['saunf', 2], ['flavor', 1], ['&', 46], ['call', 1], ['aur', 1], ['achaar.', 1], ['never', 4], ['tasted', 1], ['anything', 2], ['like', 5], ['ever.', 1], ['Do', 4], ['try', 6], ['let', 3], ['me', 6], ['know.', 1], ['share', 2], ['video', 10], ['with', 30], ['as', 9], ['many', 5], ['people', 2], ['possible', 3], ['so', 8], ['that', 4], ['everyone', 3], ['could', 3], ['enjoy', 3], ['mere', 1], ['ghar', 1], ['ke', 1], ['at', 19], ['their', 3], ['homes!\\nI', 1], ['request', 1], ['to', 47], ['please', 1], ['learn', 2], ['your', 15], ['home', 8], ['secret', 3], ['recipes', 10], ['Granny,', 1], ['grandfather,', 1], ['mom', 1], ['dad', 1], ['keep', 2], ['legacy', 1], ['going.', 1], ['Share', 1], ['those', 2], ['recipes.', 3], ['Also,', 1], ['don’t', 3], ['make', 9], ['gender', 1], ['specific', 1], ['role', 1], ['these', 6], ['traditions', 1], ['alive', 1], ['teach', 1], ['men', 1], ['women', 1], ['if', 2], ['one', 8], ['who', 2], ['knows', 1], ['some', 20], ['learning', 1], ['side,', 1], ['today', 1], ['self!', 1], ['Also', 1], ['do', 1], ['me,', 1], ['will', 10], ['recreate', 1], ['in', 28], ['kitchen!', 1], ['Looking', 2], ['forward!', 1], ['Cheers!\\n.\\n.\\n.\\n.\\n#recipes', 3], ['#foodie', 17], ['#achaar', 1], ['#mango', 1], ['#mangoseason', 5], ['#mangorecipe', 1], ['#nostalgia', 1], ['#oldrecipes', 1], ['#streetfoodindia', 10], ['#mangoachar', 1], ['#sanjyotkeer', 8], ['#yourfoodlab', 8], ['#foodphotography', 9], ['#darkphotography', 1], ['#moody', 1], ['#throughyourlens', 3], ['Tava', 1], ['Burger', 1], ['by', 10], ['Chef', 5], ['@sanjyotkeer\\n.\\n.\\n.\\n.\\n#recipe', 2], ['#foodporn', 12], ['#indiancuisine', 7], ['#streetfood', 12], ['#burger', 1], ['#burgerrecipe', 1], ['Home-made', 3], ['Squash', 3], ['@sanjyotkeer\\n\\nWhat’s', 2], ['prepped', 5], ['4', 2], ['Frooti,', 2], ['Ice', 4], ['Tea,', 2], ['Milkshake', 2], ['Candy.\\nI', 2], ['mentioned', 2], ['all', 12], ['tips', 2], ['tricks', 2], ['prepare', 4], ['squash', 2], ['without', 6], ['any', 2], ['preservatives', 2], ['can', 6], ['even', 2], ['after', 2], ['season', 2], ['over.\\nDo', 2], ['check', 2], ['know!', 2], ['Cheers!\\n.\\n.\\n.\\n.\\n#recipe', 2], ['#icetea', 2], ['#mangomilkshake', 2], ['#mangolover', 4], ['#frooti', 2], ['#recipeoftheday', 4], ['#homemade', 7], ['#mangolove', 2], ['#instadaily', 2], ['new', 4], ['YFL', 3], ['live', 3], ['YouTube', 6], ['channel!', 2], ['LIVE', 1], ['-', 1], ['Sunday,', 1], ['23/05/2021', 1], ['12:30', 2], ['pm', 2], ['IST\\n\\nAfter', 1], ['successful', 1], ['session', 2], ['last', 1], ['week', 1], ['am', 3], ['doing', 1], ['another', 1], ['cooking', 2], ['stream', 1], ['tomorrow.', 1], ['be', 6], ['Mumbai', 3], ['street', 5], ['style', 2], ['sandwiches,', 1], ['an', 4], ['absolute', 1], ['favourite.', 1], ['As', 1], ['know', 1], ['love', 7], ['recreating', 1], ['food', 123850], ['kitchen.', 1], ['fun', 1], ['where', 2], ['answer', 1], ['lot', 3], ['of', 36], ['questions', 1], ['also', 3], ['cook', 3], ['live.\\nIf', 1], ['want', 1], ['along', 1], ['find', 1], ['ingredients', 1], ['sandwich', 3], ['masala', 1], ['toast', 1], ['YouTube.', 1], ['You', 4], ['pre', 1], ['prep', 1], ['components', 1], ['then', 1], ['sandwiches', 1], ['for', 28], ['Sunday', 1], ['evening.', 1], ['See', 1], ['tomorrow', 1], ['IST.\\nCheers!\\n.\\n.\\n.\\n.\\n#recipe', 1], ['#cooking', 1], ['#cookingvideos', 1], ['#cookingathome', 1], ['#cookinglive', 1], ['#sandwich', 2], ['#mumbaisandwich', 1], ['#livestream', 1], ['Missi', 2], ['Roti', 2], ['made', 3], ['white', 6], ['butter', 7], ['@sanjyotkeer\\n\\nI', 1], ['had', 2], ['received', 2], ['requests', 2], ['show', 2], ['how', 2], ['churn', 2], ['easily', 2], ['would', 2], ['able', 2], ['home-made', 2], ['quickly', 2], ['recipe.\\nThe', 2], ['missi', 2], ['roti', 2], ['turns', 2], ['super', 7], ['used', 2], ['dal', 2], ['knead', 2], ['dough.', 4], ['healthy', 2], ['makes', 4], ['really', 3], ['good', 4], ['breakfast', 3], ['or', 7], ['lunch', 2], ['meal.\\nI', 2], ['included', 2], ['special', 4], ['chutney', 3], ['well', 3], ['video.', 2], ['Enjoy', 2], ['recipe!', 2], ['#makhan', 2], ['#butter', 2], ['#missiroti', 2], ['#homemadefood', 3], ['New', 2], ['Facebook', 2], ['butter.\\nI', 1], ['Chicken', 3], ['Hakka', 1], ['Noodles', 1], ['#food', 18], ['#noodles', 1], ['#noodleslover', 1], ['Stuffed', 4], ['Kulfi', 4], ['guys!\\nI', 1], ['prepared', 2], ['perfect,', 2], ['rich', 2], ['creamy', 3], ['Malai', 3], ['kulfi', 4], ['and', 47], ['I’ve', 2], ['set', 4], ['fresh', 6], ['mangoes!', 2], ['looks', 2], ['beautiful', 3], ['when', 2], ['serve', 4], ['tastes', 2], ['incredible.', 2], ['Best', 2], ['part,', 2], ['need', 4], ['mould', 2], ['simple.', 2], ['get', 3], ['fruit', 2], ['kulfis', 2], ['Delhi', 3], ['just', 8], ['whole', 2], ['concept.', 2], ['recipe,', 3], ['sure', 2], ['it!\\nCheers!\\n.\\n.\\n.\\n#mango', 2], ['#mangoicecream', 2], ['#kulfi', 2], ['#mangokulfi', 2], ['#kulfilovers', 2], ['#dessert', 2], ['#dessertsofinstagram', 2], ['#instadailyphoto', 2], ['#stuffedkulfi', 2], ['!', 1], ['Tired', 2], ['staring', 2], ['screen', 2], ['day', 6], ['feel', 2], ['good,', 2], ['strong,', 2], ['foamy', 2], ['cuppa?', 2], ['With', 2], ['Sunbean', 2], ['Beaten', 2], ['Caffe', 2], ['@itcsunbean,', 2], ['cup', 15], ['beaten', 2], ['coffee', 4], ['30', 4], ['seconds!', 2], ['No', 2], ['more', 4], ['whipping', 2], ['till', 4], ['elbows', 2], ['hurt!', 2], ['A', 2], ['bad', 2], ['better', 3], ['than', 2], ['!\\n\\n#BeatenCoffeeHack,', 2], ['#Sunbeanbeatencaffe', 2], ['#BeatenCoffee', 2], ['#easycoffeeeasytimes', 2], ['#dalgonacoffee', 2], ['#coffee', 3], ['#coffeelover', 2], ['#coffeetime', 2], ['#coffeeholic', 2], ['Tomato', 1], ['Bonda', 1], ['amazing', 2], ['twist', 1], ['regular', 1], ['bonda!!!', 1], ['Try', 1], ['easy', 1], ['yet', 4], ['tasty', 2], ['weekend', 1], ['😀', 2], ['Cheese', 8], ['Pav', 8], ['bhaji', 6], ['version', 2], ['we', 3], ['tasted.', 2], ['We', 3], ['tried', 2], ['convenient', 2], ['cheesy', 4], ['way', 2], ['@gocheesein', 2], ['😋This', 2], ['specially', 2], ['cheese', 7], ['lovers', 2], ['there', 2], ['cause', 2], ['#HarTastyCheezMeinGoCheese', 2], ['!!!', 5], ['Ingredients:\\n2', 2], ['Refined', 2], ['Flour\\n1/2', 2], ['Water\\n1/2', 2], ['Warm', 2], ['Milk\\n1', 2], ['tsp', 13], ['Salt\\n1', 2], ['Yeast\\n1/2', 2], ['Sugar\\n1', 2], ['Oil\\n1', 2], ['Bhaji\\nGo', 2], ['Pizza', 6], ['Cheese\\nButter\\n\\nMethod:\\n\\nIn', 2], ['warm', 3], ['milk', 3], ['add', 9], ['sugar', 2], ['yeast', 2], ['rest', 2], ['10', 3], ['minutes.', 2], ['Once', 2], ['mixture', 4], ['become', 2], ['bubbly', 2], ['refined', 2], ['flour.', 2], ['Add', 7], ['salt', 5], ['water', 2], ['flour', 2], ['combine', 2], ['soft', 4], ['Rest', 3], ['minutes', 2], ['doubles', 2], ['size.\\n—\\nIn', 2], ['pav', 2], ['grated', 2], ['Go', 4], ['Cheese.', 2], ['Mix', 3], ['well.\\n—\\nPuncture', 2], ['dough', 2], ['roll', 2], ['it.', 8], ['Cut', 2], ['circles', 2], ['sheet', 2], ['help', 2], ['cookie', 2], ['cutter.\\n—\\nSpread', 2], ['shape', 2], ['shown', 2], ['video.\\n—\\nArrange', 2], ['shapes', 2], ['form', 2], ['flower', 2], ['between', 2], ['two', 2], ['petals.\\n—\\nBake', 2], ['@200', 2], ['degree', 3], ['15-20', 2], ['minutes.\\n—\\nServe', 2], ['hot', 5], ['dip', 2], ['ketchup!!!', 2], ['#cheese', 4], ['#pavbhaji', 3], ['#cheesy', 3], ['#gocheese', 2], ['#foodrushrecipe', 2], ['#recipe', 7], ['#bakery', 2], ['#bread', 4], ['#twist', 2], ['#party', 2], ['Paneer', 1], ['Bread', 1], ['Pakora', 1], ['Sound', 1], ['exciting', 1], ['right,', 1], ['its', 2], ['first', 2], ['bite', 1], ['😋', 2], ['#paneer', 2], ['#pakora', 1], ['#fried', 2], ['#breadpakoda', 1], ['#masala', 1], ['#streetstyle', 1], ['#india', 1], ['#indian', 1], ['#indianfood', 5], ['Happy', 1], ['year', 1], ['foodies!!', 1], ['🥳🥳🥳Try', 1], ['Hot', 1], ['Chocolate', 1], ['Bombs', 1], ['winter', 1], ['comfortable', 1], ['😉', 1], ['These', 1], ['magical', 1], ['chocolate', 1], ['bombs', 1], ['melt', 2], ['😋#newyear', 1], ['#chocolate', 1], ['#coco', 1], ['#cocoa', 1], ['#bombs', 1], ['#chocolatebomb', 1], ['#hotchocolate', 1], ['#winter', 1], ['#winterseason', 1], ['#magic', 1], ['Egg', 2], ['chilli', 3], ['Want', 1], ['plan', 1], ['easier', 1], ['fastest', 1], ['Year', 1], ['eve', 1], ['simplest', 1], ['tastier', 1], ['indo', 1], ['Chinese', 1], ['#egg', 1], ['#indochinese', 1], ['#chinese', 1], ['#chinesefood', 1], ['#recipes', 3], ['#foodstagram', 2], ['#fusion', 1], ['#chilli', 1], ['#newyear', 1], ['#newyear2021', 1], ['#newyeareve', 1], ['tikka', 1], ['mouthwatering', 1], ['juicy', 2], ['grilled', 2], ['chicken', 7], ['Its', 1], ['using', 2], ['green', 4], ['chilli,', 1], ['garlic,', 1], ['lemon,', 1], ['malai', 1], ['ingredient', 1], ['thats', 1], ['@californiawalnutsindia', 1], ['Walnuts', 1], ['not', 1], ['taste', 1], ['but', 1], ['healthier', 1], ['kebab', 1], ['skewers', 1], ['mouth', 1], ['😋\\n\\nIngredients', 1], [':\\n500', 1], ['gm', 1], ['Salt', 1], ['taste\\n1/4', 1], ['Black', 1], ['Pepper\\n1.5', 1], ['tbsp', 7], ['Ginger', 1], ['Garlic', 1], ['Paste', 1], ['2', 1], ['California', 3], ['Walnuts\\n3/4', 1], ['Hung', 1], ['Curd\\n1/2', 1], ['Fresh', 3], ['Cream\\n1', 1], ['Green', 1], ['Chillies\\n1', 1], ['Garam', 1], ['Masala\\n1', 1], ['Kasuri', 1], ['Methi\\n1', 1], ['Coriander\\n1', 1], ['Corn', 1], ['Starch\\nFinely', 1], ['Chopped', 1], ['Walnuts\\nButter\\n\\nMethod:\\n\\nMarinate', 1], ['salt,', 2], ['black', 1], ['pepper', 2], ['ginger', 2], ['garlic', 4], ['paste.', 1], ['15', 1], ['minutes.\\n—\\nMake', 1], ['fine', 1], ['paste', 2], ['walnuts.\\n—\\nIn', 1], ['bowl', 5], ['take', 4], ['hung', 1], ['curd,', 1], ['cream,', 1], ['chillies,', 1], ['kauri', 1], ['methi,', 1], ['walnuts', 2], ['paste,', 1], ['coriander', 1], ['cornstarch.', 1], ['well.\\n—\\nAdd', 1], ['marinated', 1], ['coat', 1], ['pieces', 1], ['it.\\n—\\nPlace', 1], ['small', 2], ['over', 5], ['mixture.', 1], ['In', 1], ['heated', 1], ['coal', 2], ['ghee', 1], ['cover', 1], ['immediately.', 1], ['Let', 1], ['covered', 1], ['2-3', 1], ['minutes.\\n—\\nRemove', 1], ['chopped', 3], ['mix', 3], ['again.\\n—\\nThread', 1], ['into', 1], ['skewer.', 1], ['Grill', 1], ['medium', 1], ['low', 1], ['flame', 1], ['around', 1], ['5-10', 1], ['minutes.\\n—\\nSqueeze', 1], ['lemon', 1], ['juice', 1], ['garnish', 2], ['cream', 2], ['coriander.\\n—\\nServe', 1], ['!!!\\n\\n#MakingEverydayHealthy', 1], ['#californiawalnuts', 1], ['#chicken', 1], ['#grill', 1], ['#malaichicken', 1], ['Whip-up', 1], ['delectable', 1], ['Open', 1], ['Toast', 2], ['loaded', 1], ['goodness', 1], ['Austrian', 3], ['triangles', 2], ['whenever', 1], ['hunger', 1], ['strikes.', 1], ['especially', 1], ['produced', 1], ['finest', 1], ['ingredients.', 1], ['use', 1], ['Blue', 1], ['France', 1], ['😉\\nThis', 1], ['post', 1], ['funded', 1], ['aid', 1], ['European', 1], ['Union.\\n\\nIngredients', 1], [':\\n\\nBaguette', 1], ['Slice\\nMelted', 1], ['butte\\nAustrian', 1], ['Triangles\\n1', 1], ['Oregano', 2], ['herbs\\n1', 1], ['Garlic\\n1', 1], ['Butter\\n1', 1], ['Balsamic', 2], ['Vinegar\\n1/2', 1], ['Cherry', 1], ['Tomato\\nSalt', 1], ['taste\\nPepper', 1], ['taste\\nPesto', 1], ['Sauce\\nBasil', 1], ['Leaves\\n\\nMethod:\\nSpread', 1], ['melted', 1], ['baguette', 2], ['slice.', 2], ['Bake', 1], ['200', 1], ['celcius', 1], ['minutes.\\n--\\nIn', 1], ['triangle', 1], ['herbs', 1], ['finely', 1], ['mIx', 1], ['well.\\n--\\nIn', 1], ['flat', 1], ['pan', 1], ['butter.', 1], ['vinegar', 1], ['cherry', 1], ['tomatoes', 1], ['taste.\\n--\\nTake', 1], ['baked', 1], ['Spread', 1], ['Seasoned', 1], ['roasted', 2], ['tomatoes.', 1], ['spread', 1], ['pesto', 1], ['sauce', 1], ['basil', 1], ['leaves.\\n--\\nServe', 1], ['favorite', 1], ['condiments', 1], ['!!\\n\\n#EnjoyitsFromEurope', 1], ['#EuropeHomeOfCheese', 1], ['#AustrianCheese', 1], ['#foodofinstagram', 1], ['#opentoast', 1], ['Now', 1], ['experience', 1], ['Royal', 1], ['Biryani', 1], ['@behrouzbiryani', 1], ['half', 1], ['price🤩🤩', 1], ['Use', 1], ['code', 1], ['ROYAL50', 1], ['50%', 1], ['off', 1], ['www.behrouzbiryani.com', 1], ['T&C', 1], ['applied*\\n.\\n#foodieincarnate', 1], ['#BehrouzBiryani', 1], ['#reelitfeelit', 4], ['#reelkarofeelkaro', 4], ['#reelsinstagram', 4], ['#reels', 4], ['#biryani', 1], ['#biryanilovers', 1], ['#biryanilove', 1], ['#biryanirecipe', 1], ['#biryanilover', 1], ['family', 1], ['4,00,000+', 1], ['people❤❤', 1], ['From', 1], ['being', 1], ['top', 1], ['getting', 2], ['page', 2], ['deleted,', 1], ['starting', 1], ['again', 2], ['reaching', 1], ['top..this', 1], ['incredible', 1], ['journey', 1], [\"wouldn't\", 1], ['support', 1], ['guys.', 2], ['Thank', 2], ['every', 2], ['single', 2], ['you.', 1], ['The', 3], ['admirers,', 1], ['haters..every', 1], ['played', 1], ['part', 1], ['becoming', 1], ['big.', 1], ['And', 1], ['yes!', 1], ['Much', 1], ['seen', 3], ['before', 2], ['content', 1], ['coming!', 1], ['So', 1], ['stay', 1], ['tuned🤗\\n.\\nP.S.', 1], ['no', 1], ['plastic', 1], ['balloons', 1], ['celebration', 1], ['because', 1], ['unlike', 1], ['other', 4], ['influencers,', 1], ['care', 1], ['environment', 1], [\"doesn't\", 1], ['come', 1], ['hibernation', 1], ['only', 1], ['Holi', 1], ['Diwali🤭🤗\\n.\\n#foodieincarnate', 1], ['#amarsirohi', 2], ['#sodelhi', 6], ['#foodblogger', 6], ['#delhifoodblogger', 7], ['#delhifoodbloggers', 3], ['#delhibloggers', 1], ['#indianfoodblogger', 7], ['#indianfoodbloggers', 8], ['#foodbloggers', 1], ['#lifestyleblogger', 1], ['#delhiblogger', 1], ['#mumbaiblogger', 1], ['#kolkatablogger', 1], ['#bangaloreblogger', 1], ['#foodblog', 1], ['#delhifoodie', 7], ['#mumbaifoodie', 6], ['#kolkata', 2], ['#400K', 1], ['#mumbaifoodblogger', 7], ['#indoreblogger', 1], ['#indorefoodblogger', 1], ['#kolkatafoodblogger', 1], ['#delhifoodblog', 1], ['#kolkatafoodie', 1], ['#raipurfoodblogger', 1], [\"Indore's\", 1], ['Famous', 3], ['MURDER', 1], ['Wala', 1], ['Coconut', 1], ['Crush😳😳\\n\\nKindly', 1], ['watch', 5], ['full', 5], ['location,', 3], ['price', 3], ['details🤗🤗\\n.\\n#foodieincarnate', 3], ['#newdelhi', 5], ['#foodtalkindia', 7], ['#delhigram', 4], ['#foodgasm', 3], ['#foodpornshare', 3], ['#foodlover', 3], ['#foodgram', 3], ['#foodiesofinstagram', 4], ['#indianstreetfood', 9], ['#delhistreetfood', 4], ['#mumbaistreetfood', 6], ['#indianfoodie', 7], ['#desikhana', 7], ['#delhifood', 6], ['#mumbai', 3], ['#delhi', 6], ['#indore', 2], ['#coconutcrush', 1], ['Cutie', 1], ['Pie', 1], ['Pizza🍕🍕', 1], ['35', 1], ['Rs', 1], ['only🤗🤗\\n.\\n#foodieincarnate', 1], ['#pizza', 2], ['#pizzalover', 1], ['Somewhere', 1], ['Central', 2], ['India🇮🇳\\n.\\nWho', 1], ['excited', 1], ['dishes', 1], ['region??\\n.\\n#foodieincarnate', 1], ['#travelblogger', 1], ['#madhyapradhesh', 1], ['#chattisgarh', 1], ['#centralindia', 1], ['#shivpuri', 1], ['#guna', 1], ['#gwalior', 1], ['#biaora', 1], ['#dewas', 1], ['#ashoknagar', 1], ['#bhopal', 1], ['#blogger', 1], ['#vidisha', 1], ['#ujjain', 1], ['#sagar', 1], ['#katni', 1], ['#jabalpur', 1], ['#bilaspur', 1], ['#korba', 1], ['#raipur', 1], ['#satna', 1], ['ThumsUp', 1], ['Milk', 1], ['Kolkata🥵🥵\\n\\nKindly', 1], ['#doodhcola', 1], ['Moonglet', 1], ['Ghaziabad❤️\\n.\\nWatch', 1], ['channel.', 2], ['Link', 2], ['bio🤗\\n.\\n#foodieincarnate', 1], ['#moonglet', 1], ['#ghaziabad', 1], ['CHEESIEST', 1], ['TRIPLE', 1], ['DECKER', 1], ['SANDWICH', 1], ['😱😱\\n.\\nIngredients:', 1], ['cheese,', 2], ['mayonnaise,', 1], ['tomato', 1], ['ketchup,', 1], ['sauce,', 1], ['vegetables', 1], ['choice', 1], ['spread.', 1], ['Butter,', 1], ['milk,', 1], ['second', 1], ['spread.🤗🤗\\n.\\n#foodieincarnate', 1], ['#desifood', 8], ['#breadpizza', 1], ['#delhifoodguide', 1], ['#delhifoodies', 1], ['#food52', 1], ['#indianrecipes', 2], ['#indiancooking', 1], [\"India's\", 2], ['Biggest', 1], ['Papdi', 1], ['Chaat🤩🤩\\n\\nKindly', 1], ['#mainpuri', 1], ['#farrukhabad', 1], ['Modi', 1], ['jee', 1], ['ne', 1], ['bhi', 1], ['khaaya', 1], ['hai', 1], ['ye', 1], ['dahi', 1], ['bhalla😳😳\\n.\\nWatch', 1], ['bio🤗🤗\\n.\\n#foodieincarnate', 1], ['#dahibhalla', 1], ['#modi', 1], ['#chaat', 1], [\"Mumbai's\", 1], ['famous', 2], ['Flying', 2], ['Vada', 1], ['Pav\\n\\n#streetfood', 1], ['#vadapav', 1], ['Dosa', 3], ['Mumbai\\n\\n#streetfood', 4], ['#thingstoeatinmumbai', 1], ['#southindianfood', 3], ['biggest', 1], ['Jumbo', 1], ['Gola', 1], ['Balaji', 1], ['Beach', 1], ['shack,', 1], ['Juhu', 1], ['beach\\n\\n#streetfood', 1], ['#gola', 1], ['#mumbaifoodlovers', 4], ['#things2doinmumbai', 1], ['Rajnikanth', 1], ['Style', 1], ['Hindmata,', 1], ['Dadar\\n\\nDosa', 1], ['served', 2], ['boss!\\n#indianstreetfood', 1], ['#dosa', 2], ['#mumbaifood', 3], ['Bhaji', 1], ['heart', 1], ['soul', 1], ['Mumbaikar', 1], ['❤️\\n\\nUtterly', 1], ['Butterly', 1], ['Sardar', 1], ['ki', 1], ['Bhaji,', 1], ['Tardeo,', 1], ['#INDIANfoodbloggers', 1], ['Super', 2], ['Cheesy', 3], ['Jini', 1], ['Anand', 1], ['Stall,', 1], ['#masaladosa', 1], ['#cheeselover', 3], ['Paniyaram', 1], ['Aunty', 1], ['Dosa,', 1], ['opp.', 1], ['Star', 1], ['Bazar,', 1], ['Andheri', 1], ['(w),', 1], ['#paniyaram', 1], ['#egglover', 1], ['#eggilicious', 1], ['#foodofmumbai', 2], ['Sigdi', 1], ['wala', 1], ['Desi', 1], ['Pasta', 1], ['WTC', 1], ['Pasta,', 1], ['Khaugalli,', 1], ['Ghatkopar\\n\\nCreamy,', 1], ['yummy', 1], ['😋\\n\\n#streetfood', 1], ['#pasta', 3], ['#yummy', 1], ['Delicious', 1], ['Masala', 1], ['Kulcha!\\n\\nWhere', 1], [':', 1], ['Ke', 1], ['Mashoor', 1], ['Chole', 1], ['kulche,\\nBackside', 1], ['Vadodara', 1], ['Mall,', 1], ['Alkapuri,', 1], ['Vadodara\\n\\n#streetfood', 1], ['#chole', 1], ['#kulcha', 1], ['#vadodarafoodies', 1], ['Aloo', 1], ['Buns', 1], ['Recipe', 1], ['Microwave!\\n\\n#streetfood', 1], ['#buns', 1], ['Matcha', 1], ['Coffee?', 1], ['@rubyscafe\\n\\n#rubyscafe', 1], ['#cafe', 1], ['#rubys', 1], ['#nycfood', 10], ['#nycdrinks', 1], ['#matcha', 1], ['#icedcoffee', 1], ['#cheers', 1], ['#thisorthat', 1], ['spot', 2], ['snack?', 1], ['@infatuation_nyc', 1], ['added', 1], ['14', 1], ['spots', 1], ['list', 1], ['May', 1], ['openings,', 1], ['including', 1], ['bistro', 1], ['Noho,', 1], ['taco', 1], ['takeout', 1], ['window', 1], ['Prospect', 1], ['Lefferts', 1], ['Gardens,', 1], ['more.', 1], ['Read', 1], ['just-updated', 1], ['guide,', 1], ['bio.\\n\\n📸:', 1], ['@ericmedsker\\n\\n#infatuationnyc', 1], ['#eeeeeats', 1], ['#nycfoodie', 4], ['#nyc', 3], ['#eatnyc', 3], ['#new', 1], ['#restaurant', 2], ['#snack', 1], ['#chips', 1], ['#potato', 2], ['@diandi.nyc', 1], ['Vietnamese', 1], ['pot', 1], ['housemade', 1], ['sauces', 1], ['hand', 1], ['shrimp', 1], ['scallion!', 1], ['3', 1], ['cuts', 1], ['beef,', 1], ['Cana', 1], ['noodles', 1], ['assorted', 1], ['veggies', 1], ['😍\\n\\n#diandi', 1], ['#vietnamesefood', 1], ['#vietnamese', 1], ['#hotpot', 1], ['#yum', 5], ['#greenpoint', 1], ['#brooklyn', 3], ['@macchinanyc', 1], ['pop-up', 1], ['going', 1], ['@thebedfordnyc', 1], ['right', 1], ['NEEDS', 1], ['parm', 1], ['sliders!!\\n\\n#TheBedfordNYC', 1], ['#macchina', 1], ['#macchinanyc', 1], ['#popup', 1], ['#collab', 1], ['#chickenparm', 1], ['#sliders', 1], ['Wow', 1], ['@gage.and.tollner', 1], ['Butter', 1], ['Roasted', 1], ['Hashbrown', 1], ['🙌', 1], ['50+', 1], ['layers', 1], ['thinly', 1], ['sliced', 1], ['potatoes,', 1], ['clarified', 1], ['crisp-edged', 1], ['perfection,', 1], ['topped', 1], ['flaky', 1], ['sea', 1], ['pool', 1], ['cream.\\n\\nSwipe', 1], ['⬅️', 1], ['@dan__grossman’s', 1], ['expert', 1], ['(and', 1], ['very', 1], ['soothing', 1], ['💆)', 1], ['hashbrown-building', 1], ['process!\\n\\n📸:', 1], ['@lizzieamunro\\n\\n#gageandtollner', 1], ['#nyceats', 2], ['#brunch', 1], ['#hashbrowns', 1], ['#gourmet', 1], ['#eat', 3], ['Who’s', 1], ['down', 1], ['pasta', 1], ['pick', 1], ['@rosemarysnyc', 1], ['rigatone', 1], ['alla', 1], ['vodka', 1], ['hit', 1], ['😍\\n\\n#rosemarys', 1], ['#rigatone', 1], ['#rigatoni', 1], ['#vodka', 1], ['#vodkasauce', 1], ['Good', 1], ['morning', 1], ['@guevarasongrand', 1], ['Empanadas', 1], ['Breakfast', 1], ['⛅️\\n\\n📸:', 1], ['@kilnandkitchen\\n\\n#food', 1], ['#goodmorning', 1], ['#empanadas', 1], ['#breakfast', 1], ['#guevaras', 1], ['Pro', 1], ['tip', 1], ['through', 1], ['week:', 1], ['head', 1], ['@murrayscheese', 1], ['cheeseboard', 1], ['dinner', 1], ['@lorrainestl', 1], ['🧀🌺\\n\\n#cheese', 1], ['#murrayscheese', 1], ['#cheeseboard', 1], ['#charcuterieboard', 1], ['#charcuterie', 1], ['#shoplocal', 1], ['Taco', 1], ['Tuesday', 1], ['vibes', 1], ['@nenestaqueria', 1], ['🌮\\n\\n#taco', 1], ['#tacotuesday', 1], ['#tacos', 1], ['#birria', 1], ['#birriatacos', 1], ['#nenes', 1], ['#taqueria', 1], ['@mariocarbone’s', 1], ['kitchen,', 1], ['@carbonefinefood', 1], ['newest', 1], ['original', 1], ['Penne', 1], ['Spicy', 1], ['Shrimp', 1], ['Arrabiata', 1], ['Sauce', 1], ['😍', 1], ['Become', 1], ['email', 1], ['subscriber', 1], ['recipe!\\n\\n#carbone', 1], ['#penne', 1], ['#shrimp', 1], ['#arrabiata', 1], ['#sauce', 1], ['#spicy', 1], ['#newyorkcity', 1], ['yourfoodlab', 1695474], ['foodie_incarnate', 403926], ['foodrush.recipe', 590497], ['streetfoodrecipe', 196455], ['street_food_chandigarh', 93767], ['foodvibesonly__', 1396], ['food__india___', 1806], ['fooodsnifffer', 3045], ['delhi_streets_food', 29260]]\n"
     ]
    }
   ],
   "source": [
    "# Printing the frequency of each word used in the posts\n",
    "word_frequency=[]\n",
    "for i in d:\n",
    "    word_frequency.append([i,d[i]])\n",
    "print(word_frequency)    "
   ]
  },
  {
   "cell_type": "markdown",
   "id": "ee513467",
   "metadata": {},
   "source": [
    "### Question 2.3"
   ]
  },
  {
   "cell_type": "code",
   "execution_count": 142,
   "id": "8aec882e",
   "metadata": {},
   "outputs": [],
   "source": [
    "import pandas as pd # Importing the required library"
   ]
  },
  {
   "cell_type": "code",
   "execution_count": 116,
   "id": "843493c5",
   "metadata": {},
   "outputs": [
    {
     "name": "stdout",
     "output_type": "stream",
     "text": [
      "             Words  Frequency\n",
      "0           What’s          4\n",
      "1               up          8\n",
      "2            guys!          5\n",
      "3               My          3\n",
      "4      home-secret          1\n",
      "...            ...        ...\n",
      "1268       #shrimp          1\n",
      "1269    #arrabiata          1\n",
      "1270        #sauce          1\n",
      "1271        #spicy          1\n",
      "1272  #newyorkcity          1\n",
      "\n",
      "[1273 rows x 2 columns]\n"
     ]
    }
   ],
   "source": [
    "# Creating a dataframe of frequency of words\n",
    "df = pd.DataFrame(word_frequency,columns=['Words','Frequency']) # Function to make dataframe with columns as Words and Frequency\n",
    "print(df)"
   ]
  },
  {
   "cell_type": "code",
   "execution_count": 37,
   "id": "0b418b15",
   "metadata": {},
   "outputs": [],
   "source": [
    "# Creating csv file with two columns : the word and its frequency\n",
    "df.to_csv('Words.csv',index=False)"
   ]
  },
  {
   "cell_type": "markdown",
   "id": "f906e13b",
   "metadata": {},
   "source": [
    "### Question 2.4"
   ]
  },
  {
   "cell_type": "code",
   "execution_count": 60,
   "id": "1dfc0d73",
   "metadata": {},
   "outputs": [
    {
     "name": "stdout",
     "output_type": "stream",
     "text": [
      "               Words  Frequency\n",
      "0              #food         18\n",
      "1            #foodie         17\n",
      "2          #foodporn         12\n",
      "3        #streetfood         12\n",
      "4   #streetfoodindia         10\n",
      "5           #nycfood         10\n",
      "6   #foodphotography          9\n",
      "7  #indianstreetfood          9\n",
      "8       #yourfoodlab          8\n",
      "9          #desifood          8\n"
     ]
    }
   ],
   "source": [
    "# Calculating most popular hastags used by these bloggers\n",
    "df=df[df['Words'].str.startswith('#')] \n",
    "popular_hashtags=df.sort_values('Frequency',ascending=False)[0:10]\n",
    "popular_hashtags.reset_index(drop=True,inplace=True)\n",
    "print(popular_hashtags)"
   ]
  },
  {
   "cell_type": "markdown",
   "id": "bcbb2c34",
   "metadata": {},
   "source": [
    "### Question 2.5 "
   ]
  },
  {
   "cell_type": "code",
   "execution_count": 123,
   "id": "6a5b921a",
   "metadata": {},
   "outputs": [
    {
     "data": {
      "image/png": "[encoded data removed]",
      "text/plain": [
       "<Figure size 432x288 with 1 Axes>"
      ]
     },
     "metadata": {},
     "output_type": "display_data"
    }
   ],
   "source": [
    "# Calculating the top 5 hashtags and their frequency and plotting a pie chart \n",
    "top5_hashtags=popular_hashtags.Words[0:5]\n",
    "top5_hashtags_frequency=popular_hashtags.Frequency[0:5]\n",
    "plt.pie(top5_hashtags_frequency,labels=top5_hashtags,autopct=\"%.2f%%\")\n",
    "plt.show()"
   ]
  },
  {
   "cell_type": "markdown",
   "id": "1f8ccded",
   "metadata": {},
   "source": [
    "## Question 3"
   ]
  },
  {
   "cell_type": "markdown",
   "id": "8cdac6fb",
   "metadata": {},
   "source": [
    "### Question 3.1"
   ]
  },
  {
   "cell_type": "code",
   "execution_count": 62,
   "id": "b347497e",
   "metadata": {},
   "outputs": [],
   "source": [
    "from selenium.common.exceptions import NoSuchElementException #Importing the req library\n",
    "l=[] #List to append the total likes of first 10 posts of each handle\n",
    "# Running a loop to open the top5 handles\n",
    "for j in range(len(top5)):\n",
    "    i=0 # Making i=0\n",
    "    total_likes=0 # Making total likes = 0\n",
    "    complete_url=base_url+'/'+top5[j]+'/'\n",
    "    driver.get(complete_url)\n",
    "    time.sleep(3)\n",
    "    post=driver.find_element_by_xpath('//div[contains(@class,\"v1Nh3\")]') # Locating the first post and opening it\n",
    "    post.click()\n",
    "    time.sleep(2)\n",
    "    # Running a loop to get the total likes of first ten posts of the handle\n",
    "    while True: \n",
    "        if i==10: #Breaking the loop as soon as i becomes 10\n",
    "            break\n",
    "        # We have to be careful if the upload is a reel or post as reels have views and we want likes which we find with posts    \n",
    "        # So finding uploads having likes and not views so using no element exception\n",
    "        # If the upload has views then the code will go into except block and then will go to the next post\n",
    "        # If the upload has likes then the code will go to try and will add the likes to the total likes and then will go to the next post\n",
    "        try:\n",
    "            likes=driver.find_element_by_xpath('//a[@class=\"zV_Nj\"]/span') # Loacting the likes\n",
    "            likes=int(likes.text.replace(',','')) # Converting the string into integer and adding it in the total likes\n",
    "            total_likes+=likes\n",
    "            nextpost=driver.find_element_by_xpath('//a[contains(@class,\"_65Bje\")]') # Locating the next button and going to the next post\n",
    "            time.sleep(3)\n",
    "            nextpost.click()\n",
    "        except:\n",
    "            nextpost=driver.find_element_by_xpath('//a[contains(@class,\"_65Bje\")]') \n",
    "            nextpost.click()\n",
    "            time.sleep(3)\n",
    "            i=i-1    # Decrementing i as we have not find an upload with likes\n",
    "        i+=1  \n",
    "    l.append(total_likes)   \n",
    "close=driver.find_element_by_xpath('html/body/div[5]/div[3]/button/div')\n",
    "close.click()        "
   ]
  },
  {
   "cell_type": "code",
   "execution_count": 126,
   "id": "02f8a54e",
   "metadata": {},
   "outputs": [
    {
     "name": "stdout",
     "output_type": "stream",
     "text": [
      "Top5 handles   Likes\n",
      "yourfoodlab 315643\n",
      "foodrush.recipe 228126\n",
      "foodie_incarnate 317297\n",
      "streetfoodrecipe 31837\n",
      "food 8131\n"
     ]
    }
   ],
   "source": [
    "# Printing top5 handles with their likes on their top 10 posts\n",
    "print('Top5 handles',' ','Likes')\n",
    "for i in range(len(top5)):\n",
    "    print(top5[i],l[i])"
   ]
  },
  {
   "cell_type": "code",
   "execution_count": 132,
   "id": "4568950a",
   "metadata": {},
   "outputs": [
    {
     "data": {
      "image/png": "[encoded data removed]",
      "text/plain": [
       "<Figure size 432x288 with 1 Axes>"
      ]
     },
     "metadata": {
      "needs_background": "light"
     },
     "output_type": "display_data"
    }
   ],
   "source": [
    "# Plotting a graph between handles and their number of likes on their first 10 posts\n",
    "plt.bar(top5,l,color='blue')\n",
    "plt.xticks(rotation=90)\n",
    "plt.xlabel('Handles->')\n",
    "plt.ylabel('Total Likes->')\n",
    "plt.title('Handle vs Likes->')\n",
    "plt.show()"
   ]
  },
  {
   "cell_type": "markdown",
   "id": "edd92d8a",
   "metadata": {},
   "source": [
    "### Question 3.2"
   ]
  },
  {
   "cell_type": "code",
   "execution_count": 67,
   "id": "6554dbc7",
   "metadata": {},
   "outputs": [],
   "source": [
    "# Calculating the avg likes by dividing the total likes by 10\n",
    "avg_likes=[]\n",
    "for i in l:\n",
    "    avg_likes.append(i/10)   "
   ]
  },
  {
   "cell_type": "code",
   "execution_count": 131,
   "id": "a4b4418b",
   "metadata": {},
   "outputs": [
    {
     "name": "stdout",
     "output_type": "stream",
     "text": [
      "Top5 handles   Avg Likes\n",
      "yourfoodlab 31564.3\n",
      "foodrush.recipe 22812.6\n",
      "foodie_incarnate 31729.7\n",
      "streetfoodrecipe 3183.7\n",
      "food 813.1\n"
     ]
    }
   ],
   "source": [
    "# Printing top5 handles with their avg likes \n",
    "print('Top5 handles',' ','Avg Likes')\n",
    "for i in range(len(top5)):\n",
    "    print(top5[i],avg_likes[i])  "
   ]
  },
  {
   "cell_type": "code",
   "execution_count": 135,
   "id": "3658b43e",
   "metadata": {},
   "outputs": [
    {
     "data": {
      "image/png": "[encoded data removed]",
      "text/plain": [
       "<Figure size 432x288 with 1 Axes>"
      ]
     },
     "metadata": {
      "needs_background": "light"
     },
     "output_type": "display_data"
    }
   ],
   "source": [
    "# Plotting a graph between handles and their avg likes\n",
    "plt.bar(top5,avg_likes,color='blue')\n",
    "plt.xticks(rotation=90)\n",
    "plt.xlabel('Handles->')\n",
    "plt.ylabel('Avg Likes->')\n",
    "plt.title('Handle vs Avg Likes->')\n",
    "plt.show()"
   ]
  },
  {
   "cell_type": "markdown",
   "id": "465d29da",
   "metadata": {},
   "source": [
    "### Question 3.3"
   ]
  },
  {
   "cell_type": "code",
   "execution_count": 100,
   "id": "71d60705",
   "metadata": {},
   "outputs": [],
   "source": [
    "#Calculating followers:likes ratio of the top5 handles\n",
    "ratio=[]\n",
    "for i in range(len(top5)):\n",
    "    ratio.append(dict[top5[i]]/avg_likes[i])"
   ]
  },
  {
   "cell_type": "code",
   "execution_count": 134,
   "id": "9166dfa8",
   "metadata": {},
   "outputs": [
    {
     "name": "stdout",
     "output_type": "stream",
     "text": [
      "Top5 handles   Followers:Likes\n",
      "yourfoodlab 53.71492477260703\n",
      "foodrush.recipe 25.884686532880952\n",
      "foodie_incarnate 12.730218060681317\n",
      "streetfoodrecipe 61.70650500989415\n",
      "food 152.3182880334522\n"
     ]
    }
   ],
   "source": [
    "# Printing the top5 handles and their followers:likes ratio\n",
    "print('Top5 handles',' ','Followers:Likes')\n",
    "for i in range(len(top5)):\n",
    "    print(top5[i],ratio[i])"
   ]
  },
  {
   "cell_type": "code",
   "execution_count": 136,
   "id": "9d355f15",
   "metadata": {},
   "outputs": [
    {
     "data": {
      "image/png": "[encoded data removed]",
      "text/plain": [
       "<Figure size 432x288 with 1 Axes>"
      ]
     },
     "metadata": {
      "needs_background": "light"
     },
     "output_type": "display_data"
    }
   ],
   "source": [
    "# Plotting a graph between handles and their followers:likes ratio\n",
    "plt.bar(top5,ratio,color='blue')\n",
    "plt.xticks(rotation=90)\n",
    "plt.xlabel('Handles->')\n",
    "plt.ylabel('Followers:Likes->')\n",
    "plt.title('Handle vs Followers:Likes Ratio->')\n",
    "plt.show()"
   ]
  }
 ],
 "metadata": {
  "kernelspec": {
   "display_name": "Python 3",
   "language": "python",
   "name": "python3"
  },
  "language_info": {
   "codemirror_mode": {
    "name": "ipython",
    "version": 3
   },
   "file_extension": ".py",
   "mimetype": "text/x-python",
   "name": "python",
   "nbconvert_exporter": "python",
   "pygments_lexer": "ipython3",
   "version": "3.8.8"
  }
 },
 "nbformat": 4,
 "nbformat_minor": 5
}
